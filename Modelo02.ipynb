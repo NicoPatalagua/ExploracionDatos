{
  "nbformat": 4,
  "nbformat_minor": 0,
  "metadata": {
    "kernelspec": {
      "display_name": "Python 3",
      "language": "python",
      "name": "python3"
    },
    "language_info": {
      "codemirror_mode": {
        "name": "ipython",
        "version": 3
      },
      "file_extension": ".py",
      "mimetype": "text/x-python",
      "name": "python",
      "nbconvert_exporter": "python",
      "pygments_lexer": "ipython3",
      "version": "3.8.2"
    },
    "colab": {
      "name": "Modelo02.ipynb",
      "provenance": [],
      "include_colab_link": true
    }
  },
  "cells": [
    {
      "cell_type": "markdown",
      "metadata": {
        "id": "view-in-github",
        "colab_type": "text"
      },
      "source": [
        "<a href=\"https://colab.research.google.com/github/NicoPatalagua/ExploracionDatos/blob/master/Modelo02.ipynb\" target=\"_parent\"><img src=\"https://colab.research.google.com/assets/colab-badge.svg\" alt=\"Open In Colab\"/></a>"
      ]
    },
    {
      "cell_type": "markdown",
      "metadata": {
        "id": "cHKXODq38kMm",
        "colab_type": "text"
      },
      "source": [
        "# **Segundo Parcial: Análisis Exploratorio de Datos.** \n",
        "\n",
        "### Nicolás Patalagua Suárez \n",
        "### Universidad Sergio Arboleda"
      ]
    },
    {
      "cell_type": "markdown",
      "metadata": {
        "id": "2jaM5aLn8kMn",
        "colab_type": "text"
      },
      "source": [
        "# Modelo **02**\n",
        "\n",
        "### Descripción de Valores:\n",
        "\n",
        "    join_date: fecha año-mes-dia hora:minuto:segundo.\n",
        "    group: houston machine learning, houstonr, houston data science,\n",
        "           houston energy data science, houston data visualization.\n",
        "    city:  Houston, Katy, Orizaba, Spring, Cold Spring Harbor,\n",
        "           Kenmore, Sugar Land, Colorado Springs, Pearland, Austin, ....\n",
        "    state: TX, NY, WA, CO, MD, CA, LA, GA, MO, NC, FL, NH,\n",
        "           MA, PA, KY, NE, IL, MN, TN, IN, OH, F2, NJ, NS, \n",
        "           VA, MI, 18, AR, AL, OR, DE, 17, ON, SC, BC, V5,\n",
        "           WI, AB, DC, AK, UT, OK, AZ, MS, CT, IA.\n",
        "    country: us, mx, il, be, cn, jp, gr, in, fr, my, de,\n",
        "             ye, np, no, au, gb, dz, co, tw, br, ie, pk,\n",
        "             ca, hk, nl, ng, ae, sg, eg, ir, es, nz, se,\n",
        "             za, cz, th, ch, by, pe, fi, kr, si, ph.\n",
        "         \n",
        "    "
      ]
    },
    {
      "cell_type": "markdown",
      "metadata": {
        "id": "CztXWC588kMo",
        "colab_type": "text"
      },
      "source": [
        "## 0.- Bibliotecas y Lectura"
      ]
    },
    {
      "cell_type": "markdown",
      "metadata": {
        "id": "hKxjMDcf8kMp",
        "colab_type": "text"
      },
      "source": [
        "### **Pandas:** \n",
        "*Es una biblioteca de software escrita como extensión de NumPy para manipulación y análisis de datos para el lenguaje de programación Python. En particular, ofrece estructuras de datos y operaciones para manipular tablas numéricas y series temporales.*\n",
        "https://pandas.pydata.org/"
      ]
    },
    {
      "cell_type": "code",
      "metadata": {
        "id": "kWW9Y4GU8kMq",
        "colab_type": "code",
        "colab": {}
      },
      "source": [
        "#Importamos la biblioteca pandas y la asignamos a la variable pd\n",
        "import pandas as pd"
      ],
      "execution_count": 0,
      "outputs": []
    },
    {
      "cell_type": "markdown",
      "metadata": {
        "id": "YOBwFTAe8kMu",
        "colab_type": "text"
      },
      "source": [
        "### **Numpy:**\n",
        "\n",
        "*Es una extensión de Python, que le agrega mayor soporte para vectores y matrices, constituyendo una biblioteca de funciones matemáticas de alto nivel para operar con esos vectores o matrices.*"
      ]
    },
    {
      "cell_type": "code",
      "metadata": {
        "id": "pDLFwBOB8kMv",
        "colab_type": "code",
        "colab": {}
      },
      "source": [
        "#Importamos la biblioteca numpy y la asignamos a la variable np\n",
        "import numpy as np"
      ],
      "execution_count": 0,
      "outputs": []
    },
    {
      "cell_type": "markdown",
      "metadata": {
        "id": "O4o-RN8y8kMy",
        "colab_type": "text"
      },
      "source": [
        "### **Matplotlib:**\n",
        "\n",
        "*Es una biblioteca de trazado 2D de Python que produce cifras de calidad de publicación en una variedad de formatos impresos y entornos interactivos en todas las plataformas. Puede generar diagramas, histogramas, espectros de potencia, gráficos de barras, diagramas de error, diagramas de dispersión, etc., con solo unas pocas líneas de código.*"
      ]
    },
    {
      "cell_type": "code",
      "metadata": {
        "id": "XNXxMGYf8kMz",
        "colab_type": "code",
        "colab": {}
      },
      "source": [
        "#Importamos la biblioteca matplotlib y la asignamos a la variable np\n",
        "import matplotlib.pyplot as plt"
      ],
      "execution_count": 0,
      "outputs": []
    },
    {
      "cell_type": "code",
      "metadata": {
        "id": "WmbcZvZK8kM3",
        "colab_type": "code",
        "colab": {}
      },
      "source": [
        "#Creamos la variable dataset que contiene la localización del dataset que vamos a usar\n",
        "dataset = 'meetup_groups.csv'"
      ],
      "execution_count": 0,
      "outputs": []
    },
    {
      "cell_type": "code",
      "metadata": {
        "id": "HEmI6GWJ8kM6",
        "colab_type": "code",
        "colab": {}
      },
      "source": [
        "#Creamos la variable ObjMeetup y le asignamos la lectura del dataset con read csv\n",
        "ObjMeetup = pd.read_csv(dataset,parse_dates=True)"
      ],
      "execution_count": 0,
      "outputs": []
    },
    {
      "cell_type": "code",
      "metadata": {
        "id": "RD2TBLvw8kM-",
        "colab_type": "code",
        "colab": {
          "base_uri": "https://localhost:8080/",
          "height": 198
        },
        "outputId": "3c25ce92-c6e6-4765-8775-15f43f317bd0"
      },
      "source": [
        "#El método head devuelve las primeras n filas para el dataset\n",
        "ObjMeetup.head()"
      ],
      "execution_count": 24,
      "outputs": [
        {
          "output_type": "execute_result",
          "data": {
            "text/html": [
              "<div>\n",
              "<style scoped>\n",
              "    .dataframe tbody tr th:only-of-type {\n",
              "        vertical-align: middle;\n",
              "    }\n",
              "\n",
              "    .dataframe tbody tr th {\n",
              "        vertical-align: top;\n",
              "    }\n",
              "\n",
              "    .dataframe thead th {\n",
              "        text-align: right;\n",
              "    }\n",
              "</style>\n",
              "<table border=\"1\" class=\"dataframe\">\n",
              "  <thead>\n",
              "    <tr style=\"text-align: right;\">\n",
              "      <th></th>\n",
              "      <th>join_date</th>\n",
              "      <th>group</th>\n",
              "      <th>city</th>\n",
              "      <th>state</th>\n",
              "      <th>country</th>\n",
              "    </tr>\n",
              "  </thead>\n",
              "  <tbody>\n",
              "    <tr>\n",
              "      <th>0</th>\n",
              "      <td>2016-11-18 02:41:29</td>\n",
              "      <td>houston machine learning</td>\n",
              "      <td>Houston</td>\n",
              "      <td>TX</td>\n",
              "      <td>us</td>\n",
              "    </tr>\n",
              "    <tr>\n",
              "      <th>1</th>\n",
              "      <td>2017-05-09 14:16:37</td>\n",
              "      <td>houston machine learning</td>\n",
              "      <td>Houston</td>\n",
              "      <td>TX</td>\n",
              "      <td>us</td>\n",
              "    </tr>\n",
              "    <tr>\n",
              "      <th>2</th>\n",
              "      <td>2016-12-30 02:34:16</td>\n",
              "      <td>houston machine learning</td>\n",
              "      <td>Houston</td>\n",
              "      <td>TX</td>\n",
              "      <td>us</td>\n",
              "    </tr>\n",
              "    <tr>\n",
              "      <th>3</th>\n",
              "      <td>2016-07-18 00:48:17</td>\n",
              "      <td>houston machine learning</td>\n",
              "      <td>Houston</td>\n",
              "      <td>TX</td>\n",
              "      <td>us</td>\n",
              "    </tr>\n",
              "    <tr>\n",
              "      <th>4</th>\n",
              "      <td>2017-05-25 12:58:16</td>\n",
              "      <td>houston machine learning</td>\n",
              "      <td>Houston</td>\n",
              "      <td>TX</td>\n",
              "      <td>us</td>\n",
              "    </tr>\n",
              "  </tbody>\n",
              "</table>\n",
              "</div>"
            ],
            "text/plain": [
              "             join_date                     group     city state country\n",
              "0  2016-11-18 02:41:29  houston machine learning  Houston    TX      us\n",
              "1  2017-05-09 14:16:37  houston machine learning  Houston    TX      us\n",
              "2  2016-12-30 02:34:16  houston machine learning  Houston    TX      us\n",
              "3  2016-07-18 00:48:17  houston machine learning  Houston    TX      us\n",
              "4  2017-05-25 12:58:16  houston machine learning  Houston    TX      us"
            ]
          },
          "metadata": {
            "tags": []
          },
          "execution_count": 24
        }
      ]
    },
    {
      "cell_type": "code",
      "metadata": {
        "id": "HblLwnZ9Bq1y",
        "colab_type": "code",
        "colab": {
          "base_uri": "https://localhost:8080/",
          "height": 126
        },
        "outputId": "974d436f-7e98-4dc8-fd28-9c5141929253"
      },
      "source": [
        "#Verificamos el tipo de datos contenidos\n",
        "ObjMeetup.dtypes"
      ],
      "execution_count": 25,
      "outputs": [
        {
          "output_type": "execute_result",
          "data": {
            "text/plain": [
              "join_date    object\n",
              "group        object\n",
              "city         object\n",
              "state        object\n",
              "country      object\n",
              "dtype: object"
            ]
          },
          "metadata": {
            "tags": []
          },
          "execution_count": 25
        }
      ]
    },
    {
      "cell_type": "code",
      "metadata": {
        "id": "K9fXynoSBUn0",
        "colab_type": "code",
        "colab": {
          "base_uri": "https://localhost:8080/",
          "height": 126
        },
        "outputId": "35b0eadc-0281-4a5e-c154-b2a9029d6cb1"
      },
      "source": [
        "#La columna 'join_date' la establecemos como un datetime\n",
        "ObjMeetup['join_date']=pd.to_datetime(ObjMeetup['join_date'])\n",
        "#Volvemos a verificar el tipo de datos\n",
        "ObjMeetup.dtypes"
      ],
      "execution_count": 26,
      "outputs": [
        {
          "output_type": "execute_result",
          "data": {
            "text/plain": [
              "join_date    datetime64[ns]\n",
              "group                object\n",
              "city                 object\n",
              "state                object\n",
              "country              object\n",
              "dtype: object"
            ]
          },
          "metadata": {
            "tags": []
          },
          "execution_count": 26
        }
      ]
    },
    {
      "cell_type": "markdown",
      "metadata": {
        "id": "f33RQHzI8kND",
        "colab_type": "text"
      },
      "source": [
        "## 1.- Identificación de datos perdidos (NaN)\n",
        "    - Bonus --> ¿Cuantas Filas se han eliminado después de la limpieza?"
      ]
    },
    {
      "cell_type": "code",
      "metadata": {
        "id": "W7uZyFRu8kND",
        "colab_type": "code",
        "colab": {
          "base_uri": "https://localhost:8080/",
          "height": 35
        },
        "outputId": "9da2a375-0cb4-4080-ae04-65574aff4501"
      },
      "source": [
        "#Con el mètodo Shape retornamos la dimensión del dataframe\n",
        "ObjMeetup.shape"
      ],
      "execution_count": 28,
      "outputs": [
        {
          "output_type": "execute_result",
          "data": {
            "text/plain": [
              "(7671, 5)"
            ]
          },
          "metadata": {
            "tags": []
          },
          "execution_count": 28
        }
      ]
    },
    {
      "cell_type": "code",
      "metadata": {
        "id": "JiGf1ODfCCvE",
        "colab_type": "code",
        "colab": {
          "base_uri": "https://localhost:8080/",
          "height": 126
        },
        "outputId": "aa398273-a1ce-40fe-d29c-4ff2c0cb0774"
      },
      "source": [
        "#Verficamos la cantidad de datos perdidos (NaN)\n",
        "pd.isna(ObjMeetup).sum()"
      ],
      "execution_count": 27,
      "outputs": [
        {
          "output_type": "execute_result",
          "data": {
            "text/plain": [
              "join_date      0\n",
              "group          0\n",
              "city           0\n",
              "state        144\n",
              "country        0\n",
              "dtype: int64"
            ]
          },
          "metadata": {
            "tags": []
          },
          "execution_count": 27
        }
      ]
    },
    {
      "cell_type": "code",
      "metadata": {
        "id": "Vg7RSGRh8kNH",
        "colab_type": "code",
        "colab": {}
      },
      "source": [
        "#Con el método Dropna se eliminan valores perdidos\n",
        "ObjData=ObjMeetup.dropna()"
      ],
      "execution_count": 0,
      "outputs": []
    },
    {
      "cell_type": "code",
      "metadata": {
        "id": "o_C32OdA8kNK",
        "colab_type": "code",
        "colab": {
          "base_uri": "https://localhost:8080/",
          "height": 35
        },
        "outputId": "21902079-676f-4550-df42-02dc58753f9a"
      },
      "source": [
        "#Se verifica la nueva dimensión\n",
        "ObjData.shape"
      ],
      "execution_count": 31,
      "outputs": [
        {
          "output_type": "execute_result",
          "data": {
            "text/plain": [
              "(7527, 5)"
            ]
          },
          "metadata": {
            "tags": []
          },
          "execution_count": 31
        }
      ]
    },
    {
      "cell_type": "code",
      "metadata": {
        "id": "y_9aeXCRCbwL",
        "colab_type": "code",
        "colab": {
          "base_uri": "https://localhost:8080/",
          "height": 126
        },
        "outputId": "507312eb-dece-42b7-ffd6-33f6d7d73bda"
      },
      "source": [
        "#Verificamos que no existan datos NaN\n",
        "pd.isna(ObjMeetup).sum()"
      ],
      "execution_count": 33,
      "outputs": [
        {
          "output_type": "execute_result",
          "data": {
            "text/plain": [
              "join_date      0\n",
              "group          0\n",
              "city           0\n",
              "state        144\n",
              "country        0\n",
              "dtype: int64"
            ]
          },
          "metadata": {
            "tags": []
          },
          "execution_count": 33
        }
      ]
    },
    {
      "cell_type": "code",
      "metadata": {
        "id": "rRUmrh1F8kNN",
        "colab_type": "code",
        "colab": {
          "base_uri": "https://localhost:8080/",
          "height": 54
        },
        "outputId": "d0989d1a-6a91-494c-cc39-c669ec327dcd"
      },
      "source": [
        "#Con el metodo shape obtenemos la cantidad de columnas y filas\n",
        "#Si se agrega [0] se obtine solo la cantidad de columnas\n",
        "print('Número de filas eliminadas tras la limpieza es:')\n",
        "print((ObjMeetup.shape[0]-ObjData.shape[0]),' Filas')"
      ],
      "execution_count": 34,
      "outputs": [
        {
          "output_type": "stream",
          "text": [
            "Número de filas eliminadas tras la limpieza es:\n",
            "144  Filas\n"
          ],
          "name": "stdout"
        }
      ]
    },
    {
      "cell_type": "markdown",
      "metadata": {
        "id": "PFY4Pbkn8kNR",
        "colab_type": "text"
      },
      "source": [
        "## 2.- ¿Cuantas reuniones por grupo se registraron en el DataFrame? \n",
        "    - Haga un gráfico (Pastel) de reuniones por grupo en el DataFrame"
      ]
    },
    {
      "cell_type": "code",
      "metadata": {
        "id": "-z9Qkxm18kNT",
        "colab_type": "code",
        "colab": {
          "base_uri": "https://localhost:8080/",
          "height": 72
        },
        "outputId": "8f2df1cf-4e0f-4ba8-d80d-d5cc1a92ceb3"
      },
      "source": [
        "#Verificamos los grupos que existen\n",
        "ObjData['group'].unique()"
      ],
      "execution_count": 35,
      "outputs": [
        {
          "output_type": "execute_result",
          "data": {
            "text/plain": [
              "array(['houston machine learning', 'houstonr', 'houston data science',\n",
              "       'houston energy data science ', 'houston data visualization '],\n",
              "      dtype=object)"
            ]
          },
          "metadata": {
            "tags": []
          },
          "execution_count": 35
        }
      ]
    },
    {
      "cell_type": "code",
      "metadata": {
        "id": "zQ3JkwpT8kNW",
        "colab_type": "code",
        "colab": {
          "base_uri": "https://localhost:8080/",
          "height": 145
        },
        "outputId": "524d8939-2673-4bdb-db36-bdc0c030564b"
      },
      "source": [
        "#Realizamos el conteo de reuniones por grupo\n",
        "ObjQGroup=ObjData['group'].value_counts()\n",
        "print('Cantidad de reuniones por grupo:\\n',ObjQGroup)"
      ],
      "execution_count": 42,
      "outputs": [
        {
          "output_type": "stream",
          "text": [
            "Cantidad de reuniones por grupo:\n",
            " houston data science            2150\n",
            "houston energy data science     1891\n",
            "houston data visualization      1709\n",
            "houstonr                        1037\n",
            "houston machine learning         740\n",
            "Name: group, dtype: int64\n"
          ],
          "name": "stdout"
        }
      ]
    },
    {
      "cell_type": "code",
      "metadata": {
        "id": "cEixFyNQ8kNZ",
        "colab_type": "code",
        "colab": {
          "base_uri": "https://localhost:8080/",
          "height": 266
        },
        "outputId": "9b4a5100-53d4-4e7f-ee42-50170aec2967"
      },
      "source": [
        "#Realizamos la grafica en base a los resultados de la consulta anterior\n",
        "print('Reuniones por grupo:')\n",
        "labels = ['houston data science','houston energy data science',\n",
        "          'houston data visualization ','houstonr','houston machine learning']\n",
        "sizes = ObjQGroup\n",
        "fig, ax1 = plt.subplots()\n",
        "ax1.pie(sizes, labels=labels, autopct='%1.1f%%',\n",
        "        shadow=True, startangle=180)\n",
        "ax1.axis('equal') \n",
        "plt.show()"
      ],
      "execution_count": 63,
      "outputs": [
        {
          "output_type": "stream",
          "text": [
            "Reuniones por grupo:\n"
          ],
          "name": "stdout"
        },
        {
          "output_type": "display_data",
          "data": {
            "image/png": "[encoded data removed]",
            "text/plain": [
              "<Figure size 432x288 with 1 Axes>"
            ]
          },
          "metadata": {
            "tags": []
          }
        }
      ]
    },
    {
      "cell_type": "markdown",
      "metadata": {
        "id": "LDf-KMyp8kNd",
        "colab_type": "text"
      },
      "source": [
        "## 3.-  ¿Cuál es la proporción de reuniones en la ciudad Houston?"
      ]
    },
    {
      "cell_type": "code",
      "metadata": {
        "id": "1OLc3zte8kNd",
        "colab_type": "code",
        "colab": {
          "base_uri": "https://localhost:8080/",
          "height": 35
        },
        "outputId": "4b3dd99f-e6d4-43c1-f4a2-25c9c3a6e682"
      },
      "source": [
        "#Contamos la cantidad de reuniones hechas en Houston\n",
        "ObjHouston=((ObjData['city']=='Houston')).sum()\n",
        "print('En Houston hubo:',ObjHouston,' reuniones')"
      ],
      "execution_count": 64,
      "outputs": [
        {
          "output_type": "stream",
          "text": [
            "En Houston hubo: 5560  reuniones\n"
          ],
          "name": "stdout"
        }
      ]
    },
    {
      "cell_type": "code",
      "metadata": {
        "id": "iy1O0Alv8kNh",
        "colab_type": "code",
        "colab": {
          "base_uri": "https://localhost:8080/",
          "height": 35
        },
        "outputId": "9e24dff3-b7ca-4824-e9ab-33550ebe8894"
      },
      "source": [
        "#Calculamos el porcentaje de reuniones en Houston \n",
        "ObjProporcionHouston=ObjHouston/(ObjData.shape[0])*100\n",
        "#Redondeamos el dato\n",
        "print(\"Proporción de reuniones en Houston: \",round(ObjProporcionHouston,2),\"%\")"
      ],
      "execution_count": 67,
      "outputs": [
        {
          "output_type": "stream",
          "text": [
            "Proporción de reuniones en Houston:  73.87 %\n"
          ],
          "name": "stdout"
        }
      ]
    },
    {
      "cell_type": "markdown",
      "metadata": {
        "id": "UXEjW4UV8kNo",
        "colab_type": "text"
      },
      "source": [
        "## 4.- Cuáles son las 10 ciudades más usadas en USA para reuniones de los grupos:\n",
        "    - 'houston machine learning ' y 'houstonr'"
      ]
    },
    {
      "cell_type": "code",
      "metadata": {
        "id": "2f87SjUQ8kNq",
        "colab_type": "code",
        "colab": {}
      },
      "source": [
        "ObjCity=ObjData[(ObjData['country'] == 'us') & \n",
        "                (ObjData['group'] == 'houston machine learning') | \n",
        "                (ObjData['group'] == 'houstonr')]"
      ],
      "execution_count": 0,
      "outputs": []
    },
    {
      "cell_type": "code",
      "metadata": {
        "id": "yiXeVtzm8kNt",
        "colab_type": "code",
        "colab": {
          "base_uri": "https://localhost:8080/",
          "height": 235
        },
        "outputId": "4a1341dd-4da0-424a-84a5-4551f7730b0a"
      },
      "source": [
        "ObjCity=ObjCity['city'].value_counts(normalize=True)\n",
        "print('El porcentaje de uso por ciudad por los grupos:\\n',ObjCity.head(10)*100)"
      ],
      "execution_count": 74,
      "outputs": [
        {
          "output_type": "stream",
          "text": [
            "El porcentaje de uso por ciudad por los grupos:\n",
            " Houston          75.858188\n",
            "Katy              2.757456\n",
            "Spring            2.363534\n",
            "Sugar Land        1.800788\n",
            "Austin            1.406866\n",
            "Cypress           1.181767\n",
            "Pearland          0.900394\n",
            "Humble            0.787845\n",
            "League City       0.619021\n",
            "San Francisco     0.619021\n",
            "Name: city, dtype: float64\n"
          ],
          "name": "stdout"
        }
      ]
    },
    {
      "cell_type": "markdown",
      "metadata": {
        "id": "O5CTgxdA8kNz",
        "colab_type": "text"
      },
      "source": [
        "## 5.- Cuáles son las ciudades más usadas para reuniones fuera del USA por:\n",
        "    -  'houston machine learning' y 'houstonr'"
      ]
    },
    {
      "cell_type": "code",
      "metadata": {
        "id": "NYd7mnWi8kNz",
        "colab_type": "code",
        "colab": {
          "base_uri": "https://localhost:8080/",
          "height": 198
        },
        "outputId": "05fb1da8-6ae2-4953-fb5b-7e83201881e3"
      },
      "source": [
        "#Obtenemos reuniones fuera de USA\n",
        "ObjNoUSA=ObjData[ObjData['country']!='us']\n",
        "ObjNoUSA.head()"
      ],
      "execution_count": 78,
      "outputs": [
        {
          "output_type": "execute_result",
          "data": {
            "text/html": [
              "<div>\n",
              "<style scoped>\n",
              "    .dataframe tbody tr th:only-of-type {\n",
              "        vertical-align: middle;\n",
              "    }\n",
              "\n",
              "    .dataframe tbody tr th {\n",
              "        vertical-align: top;\n",
              "    }\n",
              "\n",
              "    .dataframe thead th {\n",
              "        text-align: right;\n",
              "    }\n",
              "</style>\n",
              "<table border=\"1\" class=\"dataframe\">\n",
              "  <thead>\n",
              "    <tr style=\"text-align: right;\">\n",
              "      <th></th>\n",
              "      <th>join_date</th>\n",
              "      <th>group</th>\n",
              "      <th>city</th>\n",
              "      <th>state</th>\n",
              "      <th>country</th>\n",
              "    </tr>\n",
              "  </thead>\n",
              "  <tbody>\n",
              "    <tr>\n",
              "      <th>1201</th>\n",
              "      <td>2015-02-25 12:48:49</td>\n",
              "      <td>houstonr</td>\n",
              "      <td>Winchester</td>\n",
              "      <td>F2</td>\n",
              "      <td>gb</td>\n",
              "    </tr>\n",
              "    <tr>\n",
              "      <th>1363</th>\n",
              "      <td>2012-10-29 17:09:59</td>\n",
              "      <td>houstonr</td>\n",
              "      <td>Manchester</td>\n",
              "      <td>18</td>\n",
              "      <td>gb</td>\n",
              "    </tr>\n",
              "    <tr>\n",
              "      <th>1551</th>\n",
              "      <td>2016-10-28 09:07:13</td>\n",
              "      <td>houstonr</td>\n",
              "      <td>London</td>\n",
              "      <td>17</td>\n",
              "      <td>gb</td>\n",
              "    </tr>\n",
              "    <tr>\n",
              "      <th>1557</th>\n",
              "      <td>2015-06-08 22:10:41</td>\n",
              "      <td>houstonr</td>\n",
              "      <td>London</td>\n",
              "      <td>17</td>\n",
              "      <td>gb</td>\n",
              "    </tr>\n",
              "    <tr>\n",
              "      <th>1700</th>\n",
              "      <td>2016-10-14 01:31:21</td>\n",
              "      <td>houstonr</td>\n",
              "      <td>Mississauga</td>\n",
              "      <td>ON</td>\n",
              "      <td>ca</td>\n",
              "    </tr>\n",
              "  </tbody>\n",
              "</table>\n",
              "</div>"
            ],
            "text/plain": [
              "               join_date     group         city state country\n",
              "1201 2015-02-25 12:48:49  houstonr   Winchester    F2      gb\n",
              "1363 2012-10-29 17:09:59  houstonr   Manchester    18      gb\n",
              "1551 2016-10-28 09:07:13  houstonr       London    17      gb\n",
              "1557 2015-06-08 22:10:41  houstonr       London    17      gb\n",
              "1700 2016-10-14 01:31:21  houstonr  Mississauga    ON      ca"
            ]
          },
          "metadata": {
            "tags": []
          },
          "execution_count": 78
        }
      ]
    },
    {
      "cell_type": "code",
      "metadata": {
        "id": "dNy5y6qq8kN3",
        "colab_type": "code",
        "colab": {
          "base_uri": "https://localhost:8080/",
          "height": 255
        },
        "outputId": "c107c39f-a58e-4b96-f81a-fdc81b13d9b8"
      },
      "source": [
        "#Obtenemos datos de los grupos solicitados\n",
        "ObjNoUSAGroups=ObjNoUSA[(ObjData['group']=='houston machine learning')|\n",
        "                  (ObjData['group'] == 'houstonr')]\n",
        "ObjNoUSAGroups"
      ],
      "execution_count": 80,
      "outputs": [
        {
          "output_type": "stream",
          "text": [
            "/usr/local/lib/python3.6/dist-packages/ipykernel_launcher.py:2: UserWarning: Boolean Series key will be reindexed to match DataFrame index.\n",
            "  \n"
          ],
          "name": "stderr"
        },
        {
          "output_type": "execute_result",
          "data": {
            "text/html": [
              "<div>\n",
              "<style scoped>\n",
              "    .dataframe tbody tr th:only-of-type {\n",
              "        vertical-align: middle;\n",
              "    }\n",
              "\n",
              "    .dataframe tbody tr th {\n",
              "        vertical-align: top;\n",
              "    }\n",
              "\n",
              "    .dataframe thead th {\n",
              "        text-align: right;\n",
              "    }\n",
              "</style>\n",
              "<table border=\"1\" class=\"dataframe\">\n",
              "  <thead>\n",
              "    <tr style=\"text-align: right;\">\n",
              "      <th></th>\n",
              "      <th>join_date</th>\n",
              "      <th>group</th>\n",
              "      <th>city</th>\n",
              "      <th>state</th>\n",
              "      <th>country</th>\n",
              "    </tr>\n",
              "  </thead>\n",
              "  <tbody>\n",
              "    <tr>\n",
              "      <th>1201</th>\n",
              "      <td>2015-02-25 12:48:49</td>\n",
              "      <td>houstonr</td>\n",
              "      <td>Winchester</td>\n",
              "      <td>F2</td>\n",
              "      <td>gb</td>\n",
              "    </tr>\n",
              "    <tr>\n",
              "      <th>1363</th>\n",
              "      <td>2012-10-29 17:09:59</td>\n",
              "      <td>houstonr</td>\n",
              "      <td>Manchester</td>\n",
              "      <td>18</td>\n",
              "      <td>gb</td>\n",
              "    </tr>\n",
              "    <tr>\n",
              "      <th>1551</th>\n",
              "      <td>2016-10-28 09:07:13</td>\n",
              "      <td>houstonr</td>\n",
              "      <td>London</td>\n",
              "      <td>17</td>\n",
              "      <td>gb</td>\n",
              "    </tr>\n",
              "    <tr>\n",
              "      <th>1557</th>\n",
              "      <td>2015-06-08 22:10:41</td>\n",
              "      <td>houstonr</td>\n",
              "      <td>London</td>\n",
              "      <td>17</td>\n",
              "      <td>gb</td>\n",
              "    </tr>\n",
              "    <tr>\n",
              "      <th>1700</th>\n",
              "      <td>2016-10-14 01:31:21</td>\n",
              "      <td>houstonr</td>\n",
              "      <td>Mississauga</td>\n",
              "      <td>ON</td>\n",
              "      <td>ca</td>\n",
              "    </tr>\n",
              "  </tbody>\n",
              "</table>\n",
              "</div>"
            ],
            "text/plain": [
              "               join_date     group         city state country\n",
              "1201 2015-02-25 12:48:49  houstonr   Winchester    F2      gb\n",
              "1363 2012-10-29 17:09:59  houstonr   Manchester    18      gb\n",
              "1551 2016-10-28 09:07:13  houstonr       London    17      gb\n",
              "1557 2015-06-08 22:10:41  houstonr       London    17      gb\n",
              "1700 2016-10-14 01:31:21  houstonr  Mississauga    ON      ca"
            ]
          },
          "metadata": {
            "tags": []
          },
          "execution_count": 80
        }
      ]
    },
    {
      "cell_type": "code",
      "metadata": {
        "id": "shUk8Mz78kN8",
        "colab_type": "code",
        "colab": {
          "base_uri": "https://localhost:8080/",
          "height": 126
        },
        "outputId": "2620a3ff-e11a-4258-b0e5-d40d5399ea4a"
      },
      "source": [
        "#Obtenemos la cantidad de reuniones por ciudad\n",
        "ObjNoUSACities=ObjNoUSAGroups['city'].value_counts(normalize=True)\n",
        "#Imprimimos el resultado y el porcentaje\n",
        "print('Ciudades más usadas por los grupos refereidos fuera de USA:')\n",
        "ObjNoUSACities.head(5)*100"
      ],
      "execution_count": 86,
      "outputs": [
        {
          "output_type": "stream",
          "text": [
            "Ciudades más usadas por los grupos refereidos fuera de USA:\n"
          ],
          "name": "stdout"
        },
        {
          "output_type": "execute_result",
          "data": {
            "text/plain": [
              "London         40.0\n",
              "Mississauga    20.0\n",
              "Winchester     20.0\n",
              "Manchester     20.0\n",
              "Name: city, dtype: float64"
            ]
          },
          "metadata": {
            "tags": []
          },
          "execution_count": 86
        }
      ]
    },
    {
      "cell_type": "markdown",
      "metadata": {
        "id": "8dKNuoZA8kOG",
        "colab_type": "text"
      },
      "source": [
        "## 6.- El  grupo 'houston data visualization' cuando hace reuniones en USA:\n",
        "    - ¿Es cierto que la segunda ciudad en donde hacen más reuniones es Austin?"
      ]
    },
    {
      "cell_type": "code",
      "metadata": {
        "id": "TMoFMqv58kOG",
        "colab_type": "code",
        "colab": {
          "base_uri": "https://localhost:8080/",
          "height": 198
        },
        "outputId": "9dfc6007-1572-4590-b050-e583ce9566cc"
      },
      "source": [
        "#Sacar las reuniones del grupo en USA\n",
        "ObjHDVM=ObjData[(ObjData['country']=='us')|\n",
        "              (ObjData['group']=='houston data visualization')]\n",
        "ObjHDVM.head(5)"
      ],
      "execution_count": 96,
      "outputs": [
        {
          "output_type": "execute_result",
          "data": {
            "text/html": [
              "<div>\n",
              "<style scoped>\n",
              "    .dataframe tbody tr th:only-of-type {\n",
              "        vertical-align: middle;\n",
              "    }\n",
              "\n",
              "    .dataframe tbody tr th {\n",
              "        vertical-align: top;\n",
              "    }\n",
              "\n",
              "    .dataframe thead th {\n",
              "        text-align: right;\n",
              "    }\n",
              "</style>\n",
              "<table border=\"1\" class=\"dataframe\">\n",
              "  <thead>\n",
              "    <tr style=\"text-align: right;\">\n",
              "      <th></th>\n",
              "      <th>join_date</th>\n",
              "      <th>group</th>\n",
              "      <th>city</th>\n",
              "      <th>state</th>\n",
              "      <th>country</th>\n",
              "    </tr>\n",
              "  </thead>\n",
              "  <tbody>\n",
              "    <tr>\n",
              "      <th>0</th>\n",
              "      <td>2016-11-18 02:41:29</td>\n",
              "      <td>houston machine learning</td>\n",
              "      <td>Houston</td>\n",
              "      <td>TX</td>\n",
              "      <td>us</td>\n",
              "    </tr>\n",
              "    <tr>\n",
              "      <th>1</th>\n",
              "      <td>2017-05-09 14:16:37</td>\n",
              "      <td>houston machine learning</td>\n",
              "      <td>Houston</td>\n",
              "      <td>TX</td>\n",
              "      <td>us</td>\n",
              "    </tr>\n",
              "    <tr>\n",
              "      <th>2</th>\n",
              "      <td>2016-12-30 02:34:16</td>\n",
              "      <td>houston machine learning</td>\n",
              "      <td>Houston</td>\n",
              "      <td>TX</td>\n",
              "      <td>us</td>\n",
              "    </tr>\n",
              "    <tr>\n",
              "      <th>3</th>\n",
              "      <td>2016-07-18 00:48:17</td>\n",
              "      <td>houston machine learning</td>\n",
              "      <td>Houston</td>\n",
              "      <td>TX</td>\n",
              "      <td>us</td>\n",
              "    </tr>\n",
              "    <tr>\n",
              "      <th>4</th>\n",
              "      <td>2017-05-25 12:58:16</td>\n",
              "      <td>houston machine learning</td>\n",
              "      <td>Houston</td>\n",
              "      <td>TX</td>\n",
              "      <td>us</td>\n",
              "    </tr>\n",
              "  </tbody>\n",
              "</table>\n",
              "</div>"
            ],
            "text/plain": [
              "            join_date                     group     city state country\n",
              "0 2016-11-18 02:41:29  houston machine learning  Houston    TX      us\n",
              "1 2017-05-09 14:16:37  houston machine learning  Houston    TX      us\n",
              "2 2016-12-30 02:34:16  houston machine learning  Houston    TX      us\n",
              "3 2016-07-18 00:48:17  houston machine learning  Houston    TX      us\n",
              "4 2017-05-25 12:58:16  houston machine learning  Houston    TX      us"
            ]
          },
          "metadata": {
            "tags": []
          },
          "execution_count": 96
        }
      ]
    },
    {
      "cell_type": "code",
      "metadata": {
        "id": "y8sbuX4RQoaT",
        "colab_type": "code",
        "colab": {
          "base_uri": "https://localhost:8080/",
          "height": 126
        },
        "outputId": "7e2e5e58-9b77-4d9a-f3a7-d999c1ebccc0"
      },
      "source": [
        "#Sacamos el porcentaje de reuniones por mes\n",
        "ObjDateHDV=ObjHDVM.join_date.dt.month.value_counts(normalize=True)\n",
        "ObjDateHDV.head(5)*100"
      ],
      "execution_count": 97,
      "outputs": [
        {
          "output_type": "execute_result",
          "data": {
            "text/plain": [
              "7     12.093333\n",
              "8     11.706667\n",
              "6     11.386667\n",
              "10     8.453333\n",
              "1      8.373333\n",
              "Name: join_date, dtype: float64"
            ]
          },
          "metadata": {
            "tags": []
          },
          "execution_count": 97
        }
      ]
    },
    {
      "cell_type": "markdown",
      "metadata": {
        "id": "b8Lvf7ZPRnVs",
        "colab_type": "text"
      },
      "source": [
        "Del resultado anterior podemos concluir que en el mes 7 (Julio), en el mes 8 (Agosto) y en el mes 6 (junio), Houston data visualization tiende a realizar sus reuniones."
      ]
    },
    {
      "cell_type": "markdown",
      "metadata": {
        "id": "VyfF47f68kOM",
        "colab_type": "text"
      },
      "source": [
        "Se puede concluir que el grupo houston data visualization no hace reuniones en USA.\n",
        "\n",
        "Ahora revisamos la ciudad para comprobar su Austin es la segunda ciudad donde se realizan más reuniones."
      ]
    },
    {
      "cell_type": "code",
      "metadata": {
        "id": "hyi7WZK78kOP",
        "colab_type": "code",
        "colab": {
          "base_uri": "https://localhost:8080/",
          "height": 235
        },
        "outputId": "eb058d42-c788-4308-ca6c-07abb442f9cd"
      },
      "source": [
        "ObjAustin=ObjHDVM['city'].value_counts(normalize=True)\n",
        "print('El grupo se reune en las siguientes ciudades de USA:')\n",
        "ObjAustin.head(10)*100"
      ],
      "execution_count": 100,
      "outputs": [
        {
          "output_type": "stream",
          "text": [
            "El grupo se reune en las siguientes ciudades de USA:\n"
          ],
          "name": "stdout"
        },
        {
          "output_type": "execute_result",
          "data": {
            "text/plain": [
              "Houston       74.133333\n",
              "Katy           3.040000\n",
              "Spring         2.840000\n",
              "Sugar Land     2.146667\n",
              "Austin         1.613333\n",
              "Cypress        1.320000\n",
              "Pearland       0.853333\n",
              "Humble         0.800000\n",
              "Bellaire       0.733333\n",
              "Dallas         0.613333\n",
              "Name: city, dtype: float64"
            ]
          },
          "metadata": {
            "tags": []
          },
          "execution_count": 100
        }
      ]
    },
    {
      "cell_type": "markdown",
      "metadata": {
        "id": "R-S6OCPf8kOT",
        "colab_type": "text"
      },
      "source": [
        "De los datos anteriores se puede inferir que Austin ocupa el puesto 5 de las ciudades donde más realizan reuniones el grupo houston data visualization. El puesto 2 corresponde a Katy,ubicada en los condados de Harris, Waller y Butt en el estado estadounidense de Texas. "
      ]
    },
    {
      "cell_type": "markdown",
      "metadata": {
        "id": "c1uCLe8Q8kOT",
        "colab_type": "text"
      },
      "source": [
        "## 7.- ¿Cuál fue el mes que más reuniones tuvo el grupo 'houstonr' en el año 2016?\n",
        "\n",
        "        - Agregar columna 'month' y 'year'"
      ]
    },
    {
      "cell_type": "markdown",
      "metadata": {
        "id": "4o5gAtJS8kOU",
        "colab_type": "text"
      },
      "source": [
        "<img src=\"graf02.png\">"
      ]
    },
    {
      "cell_type": "code",
      "metadata": {
        "id": "ZPf9pZjn8kOV",
        "colab_type": "code",
        "colab": {},
        "outputId": "183aaec6-e4c9-47cf-b4c2-0c6a8523e86e"
      },
      "source": [
        "ObjData['join_date'].row.str.split('-',1)"
      ],
      "execution_count": 0,
      "outputs": [
        {
          "output_type": "error",
          "ename": "AttributeError",
          "evalue": "'Series' object has no attribute 'row'",
          "traceback": [
            "\u001b[0;31m---------------------------------------------------------------------------\u001b[0m",
            "\u001b[0;31mAttributeError\u001b[0m                            Traceback (most recent call last)",
            "\u001b[0;32m<ipython-input-182-a02d6b5d4962>\u001b[0m in \u001b[0;36m<module>\u001b[0;34m\u001b[0m\n\u001b[0;32m----> 1\u001b[0;31m \u001b[0mObjData\u001b[0m\u001b[0;34m[\u001b[0m\u001b[0;34m'join_date'\u001b[0m\u001b[0;34m]\u001b[0m\u001b[0;34m.\u001b[0m\u001b[0mrow\u001b[0m\u001b[0;34m.\u001b[0m\u001b[0mstr\u001b[0m\u001b[0;34m.\u001b[0m\u001b[0msplit\u001b[0m\u001b[0;34m(\u001b[0m\u001b[0;34m'-'\u001b[0m\u001b[0;34m,\u001b[0m\u001b[0;36m1\u001b[0m\u001b[0;34m)\u001b[0m\u001b[0;34m\u001b[0m\u001b[0;34m\u001b[0m\u001b[0m\n\u001b[0m",
            "\u001b[0;32m~/jupyter/env/lib/python3.8/site-packages/pandas/core/generic.py\u001b[0m in \u001b[0;36m__getattr__\u001b[0;34m(self, name)\u001b[0m\n\u001b[1;32m   5272\u001b[0m             \u001b[0;32mif\u001b[0m \u001b[0mself\u001b[0m\u001b[0;34m.\u001b[0m\u001b[0m_info_axis\u001b[0m\u001b[0;34m.\u001b[0m\u001b[0m_can_hold_identifiers_and_holds_name\u001b[0m\u001b[0;34m(\u001b[0m\u001b[0mname\u001b[0m\u001b[0;34m)\u001b[0m\u001b[0;34m:\u001b[0m\u001b[0;34m\u001b[0m\u001b[0;34m\u001b[0m\u001b[0m\n\u001b[1;32m   5273\u001b[0m                 \u001b[0;32mreturn\u001b[0m \u001b[0mself\u001b[0m\u001b[0;34m[\u001b[0m\u001b[0mname\u001b[0m\u001b[0;34m]\u001b[0m\u001b[0;34m\u001b[0m\u001b[0;34m\u001b[0m\u001b[0m\n\u001b[0;32m-> 5274\u001b[0;31m             \u001b[0;32mreturn\u001b[0m \u001b[0mobject\u001b[0m\u001b[0;34m.\u001b[0m\u001b[0m__getattribute__\u001b[0m\u001b[0;34m(\u001b[0m\u001b[0mself\u001b[0m\u001b[0;34m,\u001b[0m \u001b[0mname\u001b[0m\u001b[0;34m)\u001b[0m\u001b[0;34m\u001b[0m\u001b[0;34m\u001b[0m\u001b[0m\n\u001b[0m\u001b[1;32m   5275\u001b[0m \u001b[0;34m\u001b[0m\u001b[0m\n\u001b[1;32m   5276\u001b[0m     \u001b[0;32mdef\u001b[0m \u001b[0m__setattr__\u001b[0m\u001b[0;34m(\u001b[0m\u001b[0mself\u001b[0m\u001b[0;34m,\u001b[0m \u001b[0mname\u001b[0m\u001b[0;34m:\u001b[0m \u001b[0mstr\u001b[0m\u001b[0;34m,\u001b[0m \u001b[0mvalue\u001b[0m\u001b[0;34m)\u001b[0m \u001b[0;34m->\u001b[0m \u001b[0;32mNone\u001b[0m\u001b[0;34m:\u001b[0m\u001b[0;34m\u001b[0m\u001b[0;34m\u001b[0m\u001b[0m\n",
            "\u001b[0;31mAttributeError\u001b[0m: 'Series' object has no attribute 'row'"
          ]
        }
      ]
    },
    {
      "cell_type": "code",
      "metadata": {
        "id": "dT1G7gqM8kOY",
        "colab_type": "code",
        "colab": {}
      },
      "source": [
        ""
      ],
      "execution_count": 0,
      "outputs": []
    },
    {
      "cell_type": "code",
      "metadata": {
        "id": "zVjPnVll8kOb",
        "colab_type": "code",
        "colab": {}
      },
      "source": [
        ""
      ],
      "execution_count": 0,
      "outputs": []
    },
    {
      "cell_type": "markdown",
      "metadata": {
        "id": "vtTnK-pR8kOd",
        "colab_type": "text"
      },
      "source": [
        "## 8.- ¿Cuantas reuniones por año se registraron en el DataFrame?"
      ]
    },
    {
      "cell_type": "code",
      "metadata": {
        "id": "LGObXSP38kOe",
        "colab_type": "code",
        "colab": {}
      },
      "source": [
        ""
      ],
      "execution_count": 0,
      "outputs": []
    },
    {
      "cell_type": "code",
      "metadata": {
        "id": "SfvoGLn18kOj",
        "colab_type": "code",
        "colab": {}
      },
      "source": [
        ""
      ],
      "execution_count": 0,
      "outputs": []
    },
    {
      "cell_type": "code",
      "metadata": {
        "id": "ob0-68rr8kOn",
        "colab_type": "code",
        "colab": {}
      },
      "source": [
        ""
      ],
      "execution_count": 0,
      "outputs": []
    },
    {
      "cell_type": "markdown",
      "metadata": {
        "id": "g96qug1M8kOq",
        "colab_type": "text"
      },
      "source": [
        "## 9.- ¿Cuantas veces por año se han reunido los grupos ('houston data science', 'houston machine learning') fuera de USA en el dataframe?"
      ]
    },
    {
      "cell_type": "code",
      "metadata": {
        "id": "cxqvRrwJ8kOq",
        "colab_type": "code",
        "colab": {},
        "outputId": "6bc2117f-14df-4273-fc53-282c45376693"
      },
      "source": [
        "ObjFinal=((ObjData['group']=='houston data science')& (ObjData['group']=='houston machine learning')& (ObjData['country']=='ca')&(ObjData['country']=='ga')).sum()\n",
        "print('Reuniones de los grupos fuera de USA:',ObjFinal)"
      ],
      "execution_count": 0,
      "outputs": [
        {
          "output_type": "stream",
          "text": [
            "Reuniones de los grupos fuera de USA: 0\n"
          ],
          "name": "stdout"
        }
      ]
    },
    {
      "cell_type": "markdown",
      "metadata": {
        "id": "Nu1uBd-18kOt",
        "colab_type": "text"
      },
      "source": [
        "Se puede concluir que los grupos 'houston data science' y'houston machine learning', no se reunen fuea de USA"
      ]
    }
  ]
}