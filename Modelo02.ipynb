{
  "nbformat": 4,
  "nbformat_minor": 0,
  "metadata": {
    "kernelspec": {
      "display_name": "Python 3",
      "language": "python",
      "name": "python3"
    },
    "language_info": {
      "codemirror_mode": {
        "name": "ipython",
        "version": 3
      },
      "file_extension": ".py",
      "mimetype": "text/x-python",
      "name": "python",
      "nbconvert_exporter": "python",
      "pygments_lexer": "ipython3",
      "version": "3.8.2"
    },
    "colab": {
      "name": "Modelo02.ipynb",
      "provenance": [],
      "include_colab_link": true
    }
  },
  "cells": [
    {
      "cell_type": "markdown",
      "metadata": {
        "id": "view-in-github",
        "colab_type": "text"
      },
      "source": [
        "<a href=\"https://colab.research.google.com/github/NicoPatalagua/ExploracionDatos/blob/master/Modelo02.ipynb\" target=\"_parent\"><img src=\"https://colab.research.google.com/assets/colab-badge.svg\" alt=\"Open In Colab\"/></a>"
      ]
    },
    {
      "cell_type": "markdown",
      "metadata": {
        "id": "cHKXODq38kMm",
        "colab_type": "text"
      },
      "source": [
        "# **Segundo Parcial: Análisis Exploratorio de Datos.** \n",
        "\n",
        "### Nicolás Patalagua Suárez \n",
        "### Universidad Sergio Arboleda"
      ]
    },
    {
      "cell_type": "markdown",
      "metadata": {
        "id": "2jaM5aLn8kMn",
        "colab_type": "text"
      },
      "source": [
        "# Modelo **02**\n",
        "\n",
        "### Descripción de Valores:\n",
        "\n",
        "    join_date: fecha año-mes-dia hora:minuto:segundo.\n",
        "    group: houston machine learning, houstonr, houston data science,\n",
        "           houston energy data science, houston data visualization.\n",
        "    city:  Houston, Katy, Orizaba, Spring, Cold Spring Harbor,\n",
        "           Kenmore, Sugar Land, Colorado Springs, Pearland, Austin, ....\n",
        "    state: TX, NY, WA, CO, MD, CA, LA, GA, MO, NC, FL, NH,\n",
        "           MA, PA, KY, NE, IL, MN, TN, IN, OH, F2, NJ, NS, \n",
        "           VA, MI, 18, AR, AL, OR, DE, 17, ON, SC, BC, V5,\n",
        "           WI, AB, DC, AK, UT, OK, AZ, MS, CT, IA.\n",
        "    country: us, mx, il, be, cn, jp, gr, in, fr, my, de,\n",
        "             ye, np, no, au, gb, dz, co, tw, br, ie, pk,\n",
        "             ca, hk, nl, ng, ae, sg, eg, ir, es, nz, se,\n",
        "             za, cz, th, ch, by, pe, fi, kr, si, ph.\n",
        "         \n",
        "    "
      ]
    },
    {
      "cell_type": "markdown",
      "metadata": {
        "id": "CztXWC588kMo",
        "colab_type": "text"
      },
      "source": [
        "## 0.- Bibliotecas y Lectura"
      ]
    },
    {
      "cell_type": "markdown",
      "metadata": {
        "id": "hKxjMDcf8kMp",
        "colab_type": "text"
      },
      "source": [
        "### **Pandas:** \n",
        "*Es una biblioteca de software escrita como extensión de NumPy para manipulación y análisis de datos para el lenguaje de programación Python. En particular, ofrece estructuras de datos y operaciones para manipular tablas numéricas y series temporales.*\n",
        "https://pandas.pydata.org/"
      ]
    },
    {
      "cell_type": "code",
      "metadata": {
        "id": "kWW9Y4GU8kMq",
        "colab_type": "code",
        "colab": {}
      },
      "source": [
        "#Importamos la biblioteca pandas y la asignamos a la variable pd\n",
        "import pandas as pd"
      ],
      "execution_count": 0,
      "outputs": []
    },
    {
      "cell_type": "markdown",
      "metadata": {
        "id": "YOBwFTAe8kMu",
        "colab_type": "text"
      },
      "source": [
        "### **Numpy:**\n",
        "\n",
        "*Es una extensión de Python, que le agrega mayor soporte para vectores y matrices, constituyendo una biblioteca de funciones matemáticas de alto nivel para operar con esos vectores o matrices.*"
      ]
    },
    {
      "cell_type": "code",
      "metadata": {
        "id": "pDLFwBOB8kMv",
        "colab_type": "code",
        "colab": {}
      },
      "source": [
        "#Importamos la biblioteca numpy y la asignamos a la variable np\n",
        "import numpy as np"
      ],
      "execution_count": 0,
      "outputs": []
    },
    {
      "cell_type": "markdown",
      "metadata": {
        "id": "O4o-RN8y8kMy",
        "colab_type": "text"
      },
      "source": [
        "### **Matplotlib:**\n",
        "\n",
        "*Es una biblioteca de trazado 2D de Python que produce cifras de calidad de publicación en una variedad de formatos impresos y entornos interactivos en todas las plataformas. Puede generar diagramas, histogramas, espectros de potencia, gráficos de barras, diagramas de error, diagramas de dispersión, etc., con solo unas pocas líneas de código.*"
      ]
    },
    {
      "cell_type": "code",
      "metadata": {
        "id": "XNXxMGYf8kMz",
        "colab_type": "code",
        "colab": {}
      },
      "source": [
        "#Importamos la biblioteca matplotlib y la asignamos a la variable np\n",
        "import matplotlib.pyplot as plt"
      ],
      "execution_count": 0,
      "outputs": []
    },
    {
      "cell_type": "code",
      "metadata": {
        "id": "WmbcZvZK8kM3",
        "colab_type": "code",
        "colab": {}
      },
      "source": [
        "#Creamos la variable dataset que contiene la localización del dataset que vamos a usar\n",
        "dataset = 'meetup_groups.csv'"
      ],
      "execution_count": 0,
      "outputs": []
    },
    {
      "cell_type": "code",
      "metadata": {
        "id": "HEmI6GWJ8kM6",
        "colab_type": "code",
        "colab": {}
      },
      "source": [
        "#Creamos la variable ObjMeetup y le asignamos la lectura del dataset con read csv\n",
        "ObjMeetup = pd.read_csv(dataset,parse_dates=True)"
      ],
      "execution_count": 0,
      "outputs": []
    },
    {
      "cell_type": "code",
      "metadata": {
        "id": "RD2TBLvw8kM-",
        "colab_type": "code",
        "outputId": "977ed257-ba63-4aa7-b274-9e20da8e6c31",
        "colab": {
          "base_uri": "https://localhost:8080/",
          "height": 202
        }
      },
      "source": [
        "#El método head devuelve las primeras n filas para el dataset\n",
        "ObjMeetup.head()"
      ],
      "execution_count": 6,
      "outputs": [
        {
          "output_type": "execute_result",
          "data": {
            "text/html": [
              "<div>\n",
              "<style scoped>\n",
              "    .dataframe tbody tr th:only-of-type {\n",
              "        vertical-align: middle;\n",
              "    }\n",
              "\n",
              "    .dataframe tbody tr th {\n",
              "        vertical-align: top;\n",
              "    }\n",
              "\n",
              "    .dataframe thead th {\n",
              "        text-align: right;\n",
              "    }\n",
              "</style>\n",
              "<table border=\"1\" class=\"dataframe\">\n",
              "  <thead>\n",
              "    <tr style=\"text-align: right;\">\n",
              "      <th></th>\n",
              "      <th>join_date</th>\n",
              "      <th>group</th>\n",
              "      <th>city</th>\n",
              "      <th>state</th>\n",
              "      <th>country</th>\n",
              "    </tr>\n",
              "  </thead>\n",
              "  <tbody>\n",
              "    <tr>\n",
              "      <th>0</th>\n",
              "      <td>2016-11-18 02:41:29</td>\n",
              "      <td>houston machine learning</td>\n",
              "      <td>Houston</td>\n",
              "      <td>TX</td>\n",
              "      <td>us</td>\n",
              "    </tr>\n",
              "    <tr>\n",
              "      <th>1</th>\n",
              "      <td>2017-05-09 14:16:37</td>\n",
              "      <td>houston machine learning</td>\n",
              "      <td>Houston</td>\n",
              "      <td>TX</td>\n",
              "      <td>us</td>\n",
              "    </tr>\n",
              "    <tr>\n",
              "      <th>2</th>\n",
              "      <td>2016-12-30 02:34:16</td>\n",
              "      <td>houston machine learning</td>\n",
              "      <td>Houston</td>\n",
              "      <td>TX</td>\n",
              "      <td>us</td>\n",
              "    </tr>\n",
              "    <tr>\n",
              "      <th>3</th>\n",
              "      <td>2016-07-18 00:48:17</td>\n",
              "      <td>houston machine learning</td>\n",
              "      <td>Houston</td>\n",
              "      <td>TX</td>\n",
              "      <td>us</td>\n",
              "    </tr>\n",
              "    <tr>\n",
              "      <th>4</th>\n",
              "      <td>2017-05-25 12:58:16</td>\n",
              "      <td>houston machine learning</td>\n",
              "      <td>Houston</td>\n",
              "      <td>TX</td>\n",
              "      <td>us</td>\n",
              "    </tr>\n",
              "  </tbody>\n",
              "</table>\n",
              "</div>"
            ],
            "text/plain": [
              "             join_date                     group     city state country\n",
              "0  2016-11-18 02:41:29  houston machine learning  Houston    TX      us\n",
              "1  2017-05-09 14:16:37  houston machine learning  Houston    TX      us\n",
              "2  2016-12-30 02:34:16  houston machine learning  Houston    TX      us\n",
              "3  2016-07-18 00:48:17  houston machine learning  Houston    TX      us\n",
              "4  2017-05-25 12:58:16  houston machine learning  Houston    TX      us"
            ]
          },
          "metadata": {
            "tags": []
          },
          "execution_count": 6
        }
      ]
    },
    {
      "cell_type": "code",
      "metadata": {
        "id": "HblLwnZ9Bq1y",
        "colab_type": "code",
        "outputId": "cc82792e-ab67-459a-ca13-12e0e65e89f6",
        "colab": {
          "base_uri": "https://localhost:8080/",
          "height": 121
        }
      },
      "source": [
        "#Verificamos el tipo de datos contenidos\n",
        "ObjMeetup.dtypes"
      ],
      "execution_count": 7,
      "outputs": [
        {
          "output_type": "execute_result",
          "data": {
            "text/plain": [
              "join_date    object\n",
              "group        object\n",
              "city         object\n",
              "state        object\n",
              "country      object\n",
              "dtype: object"
            ]
          },
          "metadata": {
            "tags": []
          },
          "execution_count": 7
        }
      ]
    },
    {
      "cell_type": "code",
      "metadata": {
        "id": "K9fXynoSBUn0",
        "colab_type": "code",
        "outputId": "ab2401bd-0b26-4e99-df2a-4a24946ac8ab",
        "colab": {
          "base_uri": "https://localhost:8080/",
          "height": 121
        }
      },
      "source": [
        "#La columna 'join_date' la establecemos como un datetime\n",
        "ObjMeetup['join_date']=pd.to_datetime(ObjMeetup['join_date'])\n",
        "#Volvemos a verificar el tipo de datos\n",
        "ObjMeetup.dtypes"
      ],
      "execution_count": 8,
      "outputs": [
        {
          "output_type": "execute_result",
          "data": {
            "text/plain": [
              "join_date    datetime64[ns]\n",
              "group                object\n",
              "city                 object\n",
              "state                object\n",
              "country              object\n",
              "dtype: object"
            ]
          },
          "metadata": {
            "tags": []
          },
          "execution_count": 8
        }
      ]
    },
    {
      "cell_type": "markdown",
      "metadata": {
        "id": "f33RQHzI8kND",
        "colab_type": "text"
      },
      "source": [
        "## 1.- Identificación de datos perdidos (NaN)\n",
        "    - Bonus --> ¿Cuantas Filas se han eliminado después de la limpieza?"
      ]
    },
    {
      "cell_type": "code",
      "metadata": {
        "id": "W7uZyFRu8kND",
        "colab_type": "code",
        "outputId": "63be9289-5690-44c3-a768-1e08cf9d1a0d",
        "colab": {
          "base_uri": "https://localhost:8080/",
          "height": 34
        }
      },
      "source": [
        "#Con el mètodo Shape retornamos la dimensión del dataframe\n",
        "ObjMeetup.shape"
      ],
      "execution_count": 9,
      "outputs": [
        {
          "output_type": "execute_result",
          "data": {
            "text/plain": [
              "(7671, 5)"
            ]
          },
          "metadata": {
            "tags": []
          },
          "execution_count": 9
        }
      ]
    },
    {
      "cell_type": "code",
      "metadata": {
        "id": "JiGf1ODfCCvE",
        "colab_type": "code",
        "outputId": "d22f349c-aa3c-4ed7-db54-0695711f03d8",
        "colab": {
          "base_uri": "https://localhost:8080/",
          "height": 121
        }
      },
      "source": [
        "#Verficamos la cantidad de datos perdidos (NaN)\n",
        "pd.isna(ObjMeetup).sum()"
      ],
      "execution_count": 10,
      "outputs": [
        {
          "output_type": "execute_result",
          "data": {
            "text/plain": [
              "join_date      0\n",
              "group          0\n",
              "city           0\n",
              "state        144\n",
              "country        0\n",
              "dtype: int64"
            ]
          },
          "metadata": {
            "tags": []
          },
          "execution_count": 10
        }
      ]
    },
    {
      "cell_type": "code",
      "metadata": {
        "id": "Vg7RSGRh8kNH",
        "colab_type": "code",
        "colab": {}
      },
      "source": [
        "#Con el método Dropna se eliminan valores perdidos\n",
        "ObjData=ObjMeetup.dropna()"
      ],
      "execution_count": 0,
      "outputs": []
    },
    {
      "cell_type": "code",
      "metadata": {
        "id": "o_C32OdA8kNK",
        "colab_type": "code",
        "outputId": "7334f5d3-746d-41ef-8baa-ec09604f2978",
        "colab": {
          "base_uri": "https://localhost:8080/",
          "height": 34
        }
      },
      "source": [
        "#Se verifica la nueva dimensión\n",
        "ObjData.shape"
      ],
      "execution_count": 12,
      "outputs": [
        {
          "output_type": "execute_result",
          "data": {
            "text/plain": [
              "(7527, 5)"
            ]
          },
          "metadata": {
            "tags": []
          },
          "execution_count": 12
        }
      ]
    },
    {
      "cell_type": "code",
      "metadata": {
        "id": "y_9aeXCRCbwL",
        "colab_type": "code",
        "outputId": "95f3e12a-8f6c-4f11-b7e5-a9b18ad717d9",
        "colab": {
          "base_uri": "https://localhost:8080/",
          "height": 121
        }
      },
      "source": [
        "#Verificamos que no existan datos NaN\n",
        "pd.isna(ObjMeetup).sum()"
      ],
      "execution_count": 13,
      "outputs": [
        {
          "output_type": "execute_result",
          "data": {
            "text/plain": [
              "join_date      0\n",
              "group          0\n",
              "city           0\n",
              "state        144\n",
              "country        0\n",
              "dtype: int64"
            ]
          },
          "metadata": {
            "tags": []
          },
          "execution_count": 13
        }
      ]
    },
    {
      "cell_type": "code",
      "metadata": {
        "id": "rRUmrh1F8kNN",
        "colab_type": "code",
        "outputId": "58001b1c-e450-4282-c33a-afb7348d75ec",
        "colab": {
          "base_uri": "https://localhost:8080/",
          "height": 52
        }
      },
      "source": [
        "#Con el metodo shape obtenemos la cantidad de columnas y filas\n",
        "#Si se agrega [0] se obtine solo la cantidad de columnas\n",
        "print('Número de filas eliminadas tras la limpieza es:')\n",
        "print((ObjMeetup.shape[0]-ObjData.shape[0]),' Filas')"
      ],
      "execution_count": 14,
      "outputs": [
        {
          "output_type": "stream",
          "text": [
            "Número de filas eliminadas tras la limpieza es:\n",
            "144  Filas\n"
          ],
          "name": "stdout"
        }
      ]
    },
    {
      "cell_type": "markdown",
      "metadata": {
        "id": "PFY4Pbkn8kNR",
        "colab_type": "text"
      },
      "source": [
        "## 2.- ¿Cuantas reuniones por grupo se registraron en el DataFrame? \n",
        "    - Haga un gráfico (Pastel) de reuniones por grupo en el DataFrame"
      ]
    },
    {
      "cell_type": "code",
      "metadata": {
        "id": "-z9Qkxm18kNT",
        "colab_type": "code",
        "outputId": "4dcb3f67-357e-44b5-9bd7-61f08dc5ccf0",
        "colab": {
          "base_uri": "https://localhost:8080/",
          "height": 69
        }
      },
      "source": [
        "#Verificamos los grupos que existen\n",
        "ObjData['group'].unique()"
      ],
      "execution_count": 15,
      "outputs": [
        {
          "output_type": "execute_result",
          "data": {
            "text/plain": [
              "array(['houston machine learning', 'houstonr', 'houston data science',\n",
              "       'houston energy data science ', 'houston data visualization '],\n",
              "      dtype=object)"
            ]
          },
          "metadata": {
            "tags": []
          },
          "execution_count": 15
        }
      ]
    },
    {
      "cell_type": "code",
      "metadata": {
        "id": "zQ3JkwpT8kNW",
        "colab_type": "code",
        "outputId": "3c66d1a0-ab2d-4a45-ff52-da0702b6044f",
        "colab": {
          "base_uri": "https://localhost:8080/",
          "height": 138
        }
      },
      "source": [
        "#Realizamos el conteo de reuniones por grupo\n",
        "ObjQGroup=ObjData['group'].value_counts()\n",
        "print('Cantidad de reuniones por grupo:\\n',ObjQGroup)"
      ],
      "execution_count": 16,
      "outputs": [
        {
          "output_type": "stream",
          "text": [
            "Cantidad de reuniones por grupo:\n",
            " houston data science            2150\n",
            "houston energy data science     1891\n",
            "houston data visualization      1709\n",
            "houstonr                        1037\n",
            "houston machine learning         740\n",
            "Name: group, dtype: int64\n"
          ],
          "name": "stdout"
        }
      ]
    },
    {
      "cell_type": "code",
      "metadata": {
        "id": "cEixFyNQ8kNZ",
        "colab_type": "code",
        "outputId": "0aec3f03-7ba8-42fe-c882-12a0d570ed85",
        "colab": {
          "base_uri": "https://localhost:8080/",
          "height": 265
        }
      },
      "source": [
        "#Realizamos la grafica en base a los resultados de la consulta anterior\n",
        "print('Reuniones por grupo:')\n",
        "labels = ['houston data science','houston energy data science',\n",
        "          'houston data visualization ','houstonr','houston machine learning']\n",
        "sizes = ObjQGroup\n",
        "fig, ax1 = plt.subplots()\n",
        "ax1.pie(sizes, labels=labels, autopct='%1.1f%%',\n",
        "        shadow=True, startangle=180)\n",
        "ax1.axis('equal') \n",
        "plt.show()"
      ],
      "execution_count": 17,
      "outputs": [
        {
          "output_type": "stream",
          "text": [
            "Reuniones por grupo:\n"
          ],
          "name": "stdout"
        },
        {
          "output_type": "display_data",
          "data": {
            "image/png": "[encoded data removed]",
            "text/plain": [
              "<Figure size 432x288 with 1 Axes>"
            ]
          },
          "metadata": {
            "tags": []
          }
        }
      ]
    },
    {
      "cell_type": "markdown",
      "metadata": {
        "id": "LDf-KMyp8kNd",
        "colab_type": "text"
      },
      "source": [
        "## 3.-  ¿Cuál es la proporción de reuniones en la ciudad Houston?"
      ]
    },
    {
      "cell_type": "code",
      "metadata": {
        "id": "1OLc3zte8kNd",
        "colab_type": "code",
        "outputId": "96053e52-10ee-407c-b5f4-6d65c9348a6d",
        "colab": {
          "base_uri": "https://localhost:8080/",
          "height": 34
        }
      },
      "source": [
        "#Contamos la cantidad de reuniones hechas en Houston\n",
        "ObjHouston=((ObjData['city']=='Houston')).sum()\n",
        "print('En Houston hubo:',ObjHouston,' reuniones')"
      ],
      "execution_count": 18,
      "outputs": [
        {
          "output_type": "stream",
          "text": [
            "En Houston hubo: 5560  reuniones\n"
          ],
          "name": "stdout"
        }
      ]
    },
    {
      "cell_type": "code",
      "metadata": {
        "id": "iy1O0Alv8kNh",
        "colab_type": "code",
        "outputId": "8da7d4fe-6a6d-4355-edc2-9f05507e4245",
        "colab": {
          "base_uri": "https://localhost:8080/",
          "height": 34
        }
      },
      "source": [
        "#Calculamos el porcentaje de reuniones en Houston \n",
        "ObjProporcionHouston=ObjHouston/(ObjData.shape[0])*100\n",
        "#Redondeamos el dato\n",
        "print(\"Proporción de reuniones en Houston: \",round(ObjProporcionHouston,2),\"%\")"
      ],
      "execution_count": 19,
      "outputs": [
        {
          "output_type": "stream",
          "text": [
            "Proporción de reuniones en Houston:  73.87 %\n"
          ],
          "name": "stdout"
        }
      ]
    },
    {
      "cell_type": "markdown",
      "metadata": {
        "id": "UXEjW4UV8kNo",
        "colab_type": "text"
      },
      "source": [
        "## 4.- Cuáles son las 10 ciudades más usadas en USA para reuniones de los grupos:\n",
        "    - 'houston machine learning ' y 'houstonr'"
      ]
    },
    {
      "cell_type": "code",
      "metadata": {
        "id": "2f87SjUQ8kNq",
        "colab_type": "code",
        "colab": {}
      },
      "source": [
        "ObjCity=ObjData[(ObjData['country'] == 'us') & \n",
        "                (ObjData['group'] == 'houston machine learning') | \n",
        "                (ObjData['group'] == 'houstonr')]"
      ],
      "execution_count": 0,
      "outputs": []
    },
    {
      "cell_type": "code",
      "metadata": {
        "id": "yiXeVtzm8kNt",
        "colab_type": "code",
        "outputId": "e1c13405-0d24-4170-dbed-993632417362",
        "colab": {
          "base_uri": "https://localhost:8080/",
          "height": 225
        }
      },
      "source": [
        "ObjCity=ObjCity['city'].value_counts(normalize=True)\n",
        "print('El porcentaje de uso por ciudad por los grupos:\\n',ObjCity.head(10)*100)"
      ],
      "execution_count": 21,
      "outputs": [
        {
          "output_type": "stream",
          "text": [
            "El porcentaje de uso por ciudad por los grupos:\n",
            " Houston          75.858188\n",
            "Katy              2.757456\n",
            "Spring            2.363534\n",
            "Sugar Land        1.800788\n",
            "Austin            1.406866\n",
            "Cypress           1.181767\n",
            "Pearland          0.900394\n",
            "Humble            0.787845\n",
            "League City       0.619021\n",
            "San Francisco     0.619021\n",
            "Name: city, dtype: float64\n"
          ],
          "name": "stdout"
        }
      ]
    },
    {
      "cell_type": "markdown",
      "metadata": {
        "id": "O5CTgxdA8kNz",
        "colab_type": "text"
      },
      "source": [
        "## 5.- Cuáles son las ciudades más usadas para reuniones fuera del USA por:\n",
        "    -  'houston machine learning' y 'houstonr'"
      ]
    },
    {
      "cell_type": "code",
      "metadata": {
        "id": "NYd7mnWi8kNz",
        "colab_type": "code",
        "outputId": "4fd5c84d-0f27-4062-9016-6d492281ae01",
        "colab": {
          "base_uri": "https://localhost:8080/",
          "height": 202
        }
      },
      "source": [
        "#Obtenemos reuniones fuera de USA\n",
        "ObjNoUSA=ObjData[ObjData['country']!='us']\n",
        "ObjNoUSA.head()"
      ],
      "execution_count": 22,
      "outputs": [
        {
          "output_type": "execute_result",
          "data": {
            "text/html": [
              "<div>\n",
              "<style scoped>\n",
              "    .dataframe tbody tr th:only-of-type {\n",
              "        vertical-align: middle;\n",
              "    }\n",
              "\n",
              "    .dataframe tbody tr th {\n",
              "        vertical-align: top;\n",
              "    }\n",
              "\n",
              "    .dataframe thead th {\n",
              "        text-align: right;\n",
              "    }\n",
              "</style>\n",
              "<table border=\"1\" class=\"dataframe\">\n",
              "  <thead>\n",
              "    <tr style=\"text-align: right;\">\n",
              "      <th></th>\n",
              "      <th>join_date</th>\n",
              "      <th>group</th>\n",
              "      <th>city</th>\n",
              "      <th>state</th>\n",
              "      <th>country</th>\n",
              "    </tr>\n",
              "  </thead>\n",
              "  <tbody>\n",
              "    <tr>\n",
              "      <th>1201</th>\n",
              "      <td>2015-02-25 12:48:49</td>\n",
              "      <td>houstonr</td>\n",
              "      <td>Winchester</td>\n",
              "      <td>F2</td>\n",
              "      <td>gb</td>\n",
              "    </tr>\n",
              "    <tr>\n",
              "      <th>1363</th>\n",
              "      <td>2012-10-29 17:09:59</td>\n",
              "      <td>houstonr</td>\n",
              "      <td>Manchester</td>\n",
              "      <td>18</td>\n",
              "      <td>gb</td>\n",
              "    </tr>\n",
              "    <tr>\n",
              "      <th>1551</th>\n",
              "      <td>2016-10-28 09:07:13</td>\n",
              "      <td>houstonr</td>\n",
              "      <td>London</td>\n",
              "      <td>17</td>\n",
              "      <td>gb</td>\n",
              "    </tr>\n",
              "    <tr>\n",
              "      <th>1557</th>\n",
              "      <td>2015-06-08 22:10:41</td>\n",
              "      <td>houstonr</td>\n",
              "      <td>London</td>\n",
              "      <td>17</td>\n",
              "      <td>gb</td>\n",
              "    </tr>\n",
              "    <tr>\n",
              "      <th>1700</th>\n",
              "      <td>2016-10-14 01:31:21</td>\n",
              "      <td>houstonr</td>\n",
              "      <td>Mississauga</td>\n",
              "      <td>ON</td>\n",
              "      <td>ca</td>\n",
              "    </tr>\n",
              "  </tbody>\n",
              "</table>\n",
              "</div>"
            ],
            "text/plain": [
              "               join_date     group         city state country\n",
              "1201 2015-02-25 12:48:49  houstonr   Winchester    F2      gb\n",
              "1363 2012-10-29 17:09:59  houstonr   Manchester    18      gb\n",
              "1551 2016-10-28 09:07:13  houstonr       London    17      gb\n",
              "1557 2015-06-08 22:10:41  houstonr       London    17      gb\n",
              "1700 2016-10-14 01:31:21  houstonr  Mississauga    ON      ca"
            ]
          },
          "metadata": {
            "tags": []
          },
          "execution_count": 22
        }
      ]
    },
    {
      "cell_type": "code",
      "metadata": {
        "id": "dNy5y6qq8kN3",
        "colab_type": "code",
        "outputId": "a512dcb8-624b-4f0e-f230-c51a9a962e77",
        "colab": {
          "base_uri": "https://localhost:8080/",
          "height": 237
        }
      },
      "source": [
        "#Obtenemos datos de los grupos solicitados\n",
        "ObjNoUSAGroups=ObjNoUSA[(ObjData['group']=='houston machine learning')|\n",
        "                  (ObjData['group'] == 'houstonr')]\n",
        "ObjNoUSAGroups"
      ],
      "execution_count": 23,
      "outputs": [
        {
          "output_type": "stream",
          "text": [
            "/usr/local/lib/python3.6/dist-packages/ipykernel_launcher.py:2: UserWarning: Boolean Series key will be reindexed to match DataFrame index.\n",
            "  \n"
          ],
          "name": "stderr"
        },
        {
          "output_type": "execute_result",
          "data": {
            "text/html": [
              "<div>\n",
              "<style scoped>\n",
              "    .dataframe tbody tr th:only-of-type {\n",
              "        vertical-align: middle;\n",
              "    }\n",
              "\n",
              "    .dataframe tbody tr th {\n",
              "        vertical-align: top;\n",
              "    }\n",
              "\n",
              "    .dataframe thead th {\n",
              "        text-align: right;\n",
              "    }\n",
              "</style>\n",
              "<table border=\"1\" class=\"dataframe\">\n",
              "  <thead>\n",
              "    <tr style=\"text-align: right;\">\n",
              "      <th></th>\n",
              "      <th>join_date</th>\n",
              "      <th>group</th>\n",
              "      <th>city</th>\n",
              "      <th>state</th>\n",
              "      <th>country</th>\n",
              "    </tr>\n",
              "  </thead>\n",
              "  <tbody>\n",
              "    <tr>\n",
              "      <th>1201</th>\n",
              "      <td>2015-02-25 12:48:49</td>\n",
              "      <td>houstonr</td>\n",
              "      <td>Winchester</td>\n",
              "      <td>F2</td>\n",
              "      <td>gb</td>\n",
              "    </tr>\n",
              "    <tr>\n",
              "      <th>1363</th>\n",
              "      <td>2012-10-29 17:09:59</td>\n",
              "      <td>houstonr</td>\n",
              "      <td>Manchester</td>\n",
              "      <td>18</td>\n",
              "      <td>gb</td>\n",
              "    </tr>\n",
              "    <tr>\n",
              "      <th>1551</th>\n",
              "      <td>2016-10-28 09:07:13</td>\n",
              "      <td>houstonr</td>\n",
              "      <td>London</td>\n",
              "      <td>17</td>\n",
              "      <td>gb</td>\n",
              "    </tr>\n",
              "    <tr>\n",
              "      <th>1557</th>\n",
              "      <td>2015-06-08 22:10:41</td>\n",
              "      <td>houstonr</td>\n",
              "      <td>London</td>\n",
              "      <td>17</td>\n",
              "      <td>gb</td>\n",
              "    </tr>\n",
              "    <tr>\n",
              "      <th>1700</th>\n",
              "      <td>2016-10-14 01:31:21</td>\n",
              "      <td>houstonr</td>\n",
              "      <td>Mississauga</td>\n",
              "      <td>ON</td>\n",
              "      <td>ca</td>\n",
              "    </tr>\n",
              "  </tbody>\n",
              "</table>\n",
              "</div>"
            ],
            "text/plain": [
              "               join_date     group         city state country\n",
              "1201 2015-02-25 12:48:49  houstonr   Winchester    F2      gb\n",
              "1363 2012-10-29 17:09:59  houstonr   Manchester    18      gb\n",
              "1551 2016-10-28 09:07:13  houstonr       London    17      gb\n",
              "1557 2015-06-08 22:10:41  houstonr       London    17      gb\n",
              "1700 2016-10-14 01:31:21  houstonr  Mississauga    ON      ca"
            ]
          },
          "metadata": {
            "tags": []
          },
          "execution_count": 23
        }
      ]
    },
    {
      "cell_type": "code",
      "metadata": {
        "id": "shUk8Mz78kN8",
        "colab_type": "code",
        "outputId": "d3c9d7d0-3eba-435d-c828-7c1363abbfc8",
        "colab": {
          "base_uri": "https://localhost:8080/",
          "height": 121
        }
      },
      "source": [
        "#Obtenemos la cantidad de reuniones por ciudad\n",
        "ObjNoUSACities=ObjNoUSAGroups['city'].value_counts(normalize=True)\n",
        "#Imprimimos el resultado y el porcentaje\n",
        "print('Ciudades más usadas por los grupos refereidos fuera de USA:')\n",
        "ObjNoUSACities.head(5)*100"
      ],
      "execution_count": 24,
      "outputs": [
        {
          "output_type": "stream",
          "text": [
            "Ciudades más usadas por los grupos refereidos fuera de USA:\n"
          ],
          "name": "stdout"
        },
        {
          "output_type": "execute_result",
          "data": {
            "text/plain": [
              "London         40.0\n",
              "Manchester     20.0\n",
              "Winchester     20.0\n",
              "Mississauga    20.0\n",
              "Name: city, dtype: float64"
            ]
          },
          "metadata": {
            "tags": []
          },
          "execution_count": 24
        }
      ]
    },
    {
      "cell_type": "markdown",
      "metadata": {
        "id": "8dKNuoZA8kOG",
        "colab_type": "text"
      },
      "source": [
        "## 6.- El  grupo 'houston data visualization' cuando hace reuniones en USA:\n",
        "    - ¿Es cierto que la segunda ciudad en donde hacen más reuniones es Austin?"
      ]
    },
    {
      "cell_type": "code",
      "metadata": {
        "id": "TMoFMqv58kOG",
        "colab_type": "code",
        "outputId": "41286ab7-091c-4d47-d0c3-efd6afc5d6d5",
        "colab": {
          "base_uri": "https://localhost:8080/",
          "height": 202
        }
      },
      "source": [
        "#Sacar las reuniones del grupo en USA\n",
        "ObjHDVM=ObjData[(ObjData['country']=='us')|\n",
        "              (ObjData['group']=='houston data visualization')]\n",
        "ObjHDVM.head(5)"
      ],
      "execution_count": 25,
      "outputs": [
        {
          "output_type": "execute_result",
          "data": {
            "text/html": [
              "<div>\n",
              "<style scoped>\n",
              "    .dataframe tbody tr th:only-of-type {\n",
              "        vertical-align: middle;\n",
              "    }\n",
              "\n",
              "    .dataframe tbody tr th {\n",
              "        vertical-align: top;\n",
              "    }\n",
              "\n",
              "    .dataframe thead th {\n",
              "        text-align: right;\n",
              "    }\n",
              "</style>\n",
              "<table border=\"1\" class=\"dataframe\">\n",
              "  <thead>\n",
              "    <tr style=\"text-align: right;\">\n",
              "      <th></th>\n",
              "      <th>join_date</th>\n",
              "      <th>group</th>\n",
              "      <th>city</th>\n",
              "      <th>state</th>\n",
              "      <th>country</th>\n",
              "    </tr>\n",
              "  </thead>\n",
              "  <tbody>\n",
              "    <tr>\n",
              "      <th>0</th>\n",
              "      <td>2016-11-18 02:41:29</td>\n",
              "      <td>houston machine learning</td>\n",
              "      <td>Houston</td>\n",
              "      <td>TX</td>\n",
              "      <td>us</td>\n",
              "    </tr>\n",
              "    <tr>\n",
              "      <th>1</th>\n",
              "      <td>2017-05-09 14:16:37</td>\n",
              "      <td>houston machine learning</td>\n",
              "      <td>Houston</td>\n",
              "      <td>TX</td>\n",
              "      <td>us</td>\n",
              "    </tr>\n",
              "    <tr>\n",
              "      <th>2</th>\n",
              "      <td>2016-12-30 02:34:16</td>\n",
              "      <td>houston machine learning</td>\n",
              "      <td>Houston</td>\n",
              "      <td>TX</td>\n",
              "      <td>us</td>\n",
              "    </tr>\n",
              "    <tr>\n",
              "      <th>3</th>\n",
              "      <td>2016-07-18 00:48:17</td>\n",
              "      <td>houston machine learning</td>\n",
              "      <td>Houston</td>\n",
              "      <td>TX</td>\n",
              "      <td>us</td>\n",
              "    </tr>\n",
              "    <tr>\n",
              "      <th>4</th>\n",
              "      <td>2017-05-25 12:58:16</td>\n",
              "      <td>houston machine learning</td>\n",
              "      <td>Houston</td>\n",
              "      <td>TX</td>\n",
              "      <td>us</td>\n",
              "    </tr>\n",
              "  </tbody>\n",
              "</table>\n",
              "</div>"
            ],
            "text/plain": [
              "            join_date                     group     city state country\n",
              "0 2016-11-18 02:41:29  houston machine learning  Houston    TX      us\n",
              "1 2017-05-09 14:16:37  houston machine learning  Houston    TX      us\n",
              "2 2016-12-30 02:34:16  houston machine learning  Houston    TX      us\n",
              "3 2016-07-18 00:48:17  houston machine learning  Houston    TX      us\n",
              "4 2017-05-25 12:58:16  houston machine learning  Houston    TX      us"
            ]
          },
          "metadata": {
            "tags": []
          },
          "execution_count": 25
        }
      ]
    },
    {
      "cell_type": "code",
      "metadata": {
        "id": "y8sbuX4RQoaT",
        "colab_type": "code",
        "outputId": "836efbd0-3a4d-41ba-881c-7a9e09c3fe1b",
        "colab": {
          "base_uri": "https://localhost:8080/",
          "height": 121
        }
      },
      "source": [
        "#Sacamos el porcentaje de reuniones por mes\n",
        "ObjDateHDV=ObjHDVM.join_date.dt.month.value_counts(normalize=True)\n",
        "ObjDateHDV.head(5)*100"
      ],
      "execution_count": 26,
      "outputs": [
        {
          "output_type": "execute_result",
          "data": {
            "text/plain": [
              "7     12.093333\n",
              "8     11.706667\n",
              "6     11.386667\n",
              "10     8.453333\n",
              "1      8.373333\n",
              "Name: join_date, dtype: float64"
            ]
          },
          "metadata": {
            "tags": []
          },
          "execution_count": 26
        }
      ]
    },
    {
      "cell_type": "markdown",
      "metadata": {
        "id": "b8Lvf7ZPRnVs",
        "colab_type": "text"
      },
      "source": [
        "Del resultado anterior podemos concluir que en el mes 7 (Julio), en el mes 8 (Agosto) y en el mes 6 (junio), Houston data visualization tiende a realizar sus reuniones."
      ]
    },
    {
      "cell_type": "markdown",
      "metadata": {
        "id": "VyfF47f68kOM",
        "colab_type": "text"
      },
      "source": [
        "Se puede concluir que el grupo houston data visualization no hace reuniones en USA.\n",
        "\n",
        "Ahora revisamos la ciudad para comprobar su Austin es la segunda ciudad donde se realizan más reuniones."
      ]
    },
    {
      "cell_type": "code",
      "metadata": {
        "id": "hyi7WZK78kOP",
        "colab_type": "code",
        "outputId": "5c88af80-156b-4497-a900-cf269716de2f",
        "colab": {
          "base_uri": "https://localhost:8080/",
          "height": 225
        }
      },
      "source": [
        "ObjAustin=ObjHDVM['city'].value_counts(normalize=True)\n",
        "print('El grupo se reune en las siguientes ciudades de USA:')\n",
        "ObjAustin.head(10)*100"
      ],
      "execution_count": 27,
      "outputs": [
        {
          "output_type": "stream",
          "text": [
            "El grupo se reune en las siguientes ciudades de USA:\n"
          ],
          "name": "stdout"
        },
        {
          "output_type": "execute_result",
          "data": {
            "text/plain": [
              "Houston       74.133333\n",
              "Katy           3.040000\n",
              "Spring         2.840000\n",
              "Sugar Land     2.146667\n",
              "Austin         1.613333\n",
              "Cypress        1.320000\n",
              "Pearland       0.853333\n",
              "Humble         0.800000\n",
              "Bellaire       0.733333\n",
              "Dallas         0.613333\n",
              "Name: city, dtype: float64"
            ]
          },
          "metadata": {
            "tags": []
          },
          "execution_count": 27
        }
      ]
    },
    {
      "cell_type": "markdown",
      "metadata": {
        "id": "R-S6OCPf8kOT",
        "colab_type": "text"
      },
      "source": [
        "De los datos anteriores se puede inferir que Austin ocupa el puesto 5 de las ciudades donde más realizan reuniones el grupo houston data visualization. El puesto 2 corresponde a Katy,ubicada en los condados de Harris, Waller y Butt en el estado estadounidense de Texas. "
      ]
    },
    {
      "cell_type": "markdown",
      "metadata": {
        "id": "c1uCLe8Q8kOT",
        "colab_type": "text"
      },
      "source": [
        "## 7.- ¿Cuál fue el mes que más reuniones tuvo el grupo 'houstonr' en el año 2016?\n",
        "\n",
        "        - Agregar columna 'month' y 'year'"
      ]
    },
    {
      "cell_type": "code",
      "metadata": {
        "id": "ZPf9pZjn8kOV",
        "colab_type": "code",
        "outputId": "5ce6699e-c823-407b-cdee-58004cd56857",
        "colab": {
          "base_uri": "https://localhost:8080/",
          "height": 202
        }
      },
      "source": [
        "#En primer lugar obtenemos datos por años\n",
        "ObjYear=ObjData[ObjData.join_date.dt.year==2016]\n",
        "ObjYear.head()"
      ],
      "execution_count": 28,
      "outputs": [
        {
          "output_type": "execute_result",
          "data": {
            "text/html": [
              "<div>\n",
              "<style scoped>\n",
              "    .dataframe tbody tr th:only-of-type {\n",
              "        vertical-align: middle;\n",
              "    }\n",
              "\n",
              "    .dataframe tbody tr th {\n",
              "        vertical-align: top;\n",
              "    }\n",
              "\n",
              "    .dataframe thead th {\n",
              "        text-align: right;\n",
              "    }\n",
              "</style>\n",
              "<table border=\"1\" class=\"dataframe\">\n",
              "  <thead>\n",
              "    <tr style=\"text-align: right;\">\n",
              "      <th></th>\n",
              "      <th>join_date</th>\n",
              "      <th>group</th>\n",
              "      <th>city</th>\n",
              "      <th>state</th>\n",
              "      <th>country</th>\n",
              "    </tr>\n",
              "  </thead>\n",
              "  <tbody>\n",
              "    <tr>\n",
              "      <th>0</th>\n",
              "      <td>2016-11-18 02:41:29</td>\n",
              "      <td>houston machine learning</td>\n",
              "      <td>Houston</td>\n",
              "      <td>TX</td>\n",
              "      <td>us</td>\n",
              "    </tr>\n",
              "    <tr>\n",
              "      <th>2</th>\n",
              "      <td>2016-12-30 02:34:16</td>\n",
              "      <td>houston machine learning</td>\n",
              "      <td>Houston</td>\n",
              "      <td>TX</td>\n",
              "      <td>us</td>\n",
              "    </tr>\n",
              "    <tr>\n",
              "      <th>3</th>\n",
              "      <td>2016-07-18 00:48:17</td>\n",
              "      <td>houston machine learning</td>\n",
              "      <td>Houston</td>\n",
              "      <td>TX</td>\n",
              "      <td>us</td>\n",
              "    </tr>\n",
              "    <tr>\n",
              "      <th>5</th>\n",
              "      <td>2016-07-11 03:00:32</td>\n",
              "      <td>houston machine learning</td>\n",
              "      <td>Houston</td>\n",
              "      <td>TX</td>\n",
              "      <td>us</td>\n",
              "    </tr>\n",
              "    <tr>\n",
              "      <th>7</th>\n",
              "      <td>2016-12-09 19:58:26</td>\n",
              "      <td>houston machine learning</td>\n",
              "      <td>Houston</td>\n",
              "      <td>TX</td>\n",
              "      <td>us</td>\n",
              "    </tr>\n",
              "  </tbody>\n",
              "</table>\n",
              "</div>"
            ],
            "text/plain": [
              "            join_date                     group     city state country\n",
              "0 2016-11-18 02:41:29  houston machine learning  Houston    TX      us\n",
              "2 2016-12-30 02:34:16  houston machine learning  Houston    TX      us\n",
              "3 2016-07-18 00:48:17  houston machine learning  Houston    TX      us\n",
              "5 2016-07-11 03:00:32  houston machine learning  Houston    TX      us\n",
              "7 2016-12-09 19:58:26  houston machine learning  Houston    TX      us"
            ]
          },
          "metadata": {
            "tags": []
          },
          "execution_count": 28
        }
      ]
    },
    {
      "cell_type": "code",
      "metadata": {
        "id": "MeJHxOBpWEna",
        "colab_type": "code",
        "outputId": "4491893a-4782-4a0a-9c9a-84bdaa3d9b8b",
        "colab": {
          "base_uri": "https://localhost:8080/",
          "height": 202
        }
      },
      "source": [
        "#Realizamos la busqueda de la reuniones del grupo Houstonr\n",
        "ObjHstnr=ObjYear[ObjYear['group']=='houstonr']\n",
        "ObjHstnr.head()"
      ],
      "execution_count": 29,
      "outputs": [
        {
          "output_type": "execute_result",
          "data": {
            "text/html": [
              "<div>\n",
              "<style scoped>\n",
              "    .dataframe tbody tr th:only-of-type {\n",
              "        vertical-align: middle;\n",
              "    }\n",
              "\n",
              "    .dataframe tbody tr th {\n",
              "        vertical-align: top;\n",
              "    }\n",
              "\n",
              "    .dataframe thead th {\n",
              "        text-align: right;\n",
              "    }\n",
              "</style>\n",
              "<table border=\"1\" class=\"dataframe\">\n",
              "  <thead>\n",
              "    <tr style=\"text-align: right;\">\n",
              "      <th></th>\n",
              "      <th>join_date</th>\n",
              "      <th>group</th>\n",
              "      <th>city</th>\n",
              "      <th>state</th>\n",
              "      <th>country</th>\n",
              "    </tr>\n",
              "  </thead>\n",
              "  <tbody>\n",
              "    <tr>\n",
              "      <th>755</th>\n",
              "      <td>2016-09-24 02:24:58</td>\n",
              "      <td>houstonr</td>\n",
              "      <td>Houston</td>\n",
              "      <td>TX</td>\n",
              "      <td>us</td>\n",
              "    </tr>\n",
              "    <tr>\n",
              "      <th>756</th>\n",
              "      <td>2016-12-06 14:20:50</td>\n",
              "      <td>houstonr</td>\n",
              "      <td>Houston</td>\n",
              "      <td>TX</td>\n",
              "      <td>us</td>\n",
              "    </tr>\n",
              "    <tr>\n",
              "      <th>759</th>\n",
              "      <td>2016-07-18 00:40:49</td>\n",
              "      <td>houstonr</td>\n",
              "      <td>Houston</td>\n",
              "      <td>TX</td>\n",
              "      <td>us</td>\n",
              "    </tr>\n",
              "    <tr>\n",
              "      <th>763</th>\n",
              "      <td>2016-01-21 18:07:54</td>\n",
              "      <td>houstonr</td>\n",
              "      <td>Houston</td>\n",
              "      <td>TX</td>\n",
              "      <td>us</td>\n",
              "    </tr>\n",
              "    <tr>\n",
              "      <th>766</th>\n",
              "      <td>2016-05-25 02:39:43</td>\n",
              "      <td>houstonr</td>\n",
              "      <td>Houston</td>\n",
              "      <td>TX</td>\n",
              "      <td>us</td>\n",
              "    </tr>\n",
              "  </tbody>\n",
              "</table>\n",
              "</div>"
            ],
            "text/plain": [
              "              join_date     group     city state country\n",
              "755 2016-09-24 02:24:58  houstonr  Houston    TX      us\n",
              "756 2016-12-06 14:20:50  houstonr  Houston    TX      us\n",
              "759 2016-07-18 00:40:49  houstonr  Houston    TX      us\n",
              "763 2016-01-21 18:07:54  houstonr  Houston    TX      us\n",
              "766 2016-05-25 02:39:43  houstonr  Houston    TX      us"
            ]
          },
          "metadata": {
            "tags": []
          },
          "execution_count": 29
        }
      ]
    },
    {
      "cell_type": "code",
      "metadata": {
        "id": "U9TSpCEwXGoE",
        "colab_type": "code",
        "outputId": "37723565-025a-4ceb-f87d-80ac6c6b96e5",
        "colab": {
          "base_uri": "https://localhost:8080/",
          "height": 69
        }
      },
      "source": [
        "#Obtenemos el porcentaje de reuniones mensual \n",
        "ObjMonth=ObjYear.join_date.dt.month.value_counts(normalize=True)\n",
        "print('El mes en el que más se reunio el grupo fue en:')\n",
        "ObjMonth.head(1)*100"
      ],
      "execution_count": 30,
      "outputs": [
        {
          "output_type": "stream",
          "text": [
            "El mes en el que más se reunio el grupo fue en:\n"
          ],
          "name": "stdout"
        },
        {
          "output_type": "execute_result",
          "data": {
            "text/plain": [
              "6    13.288541\n",
              "Name: join_date, dtype: float64"
            ]
          },
          "metadata": {
            "tags": []
          },
          "execution_count": 30
        }
      ]
    },
    {
      "cell_type": "markdown",
      "metadata": {
        "id": "lVUTKgKFZdqU",
        "colab_type": "text"
      },
      "source": [
        "Esto quiere decir que Junio del 2016 fue el mes en que más reuniones realizó el grupo.\n",
        "\n",
        "Ahora creamos la columna de mes y año."
      ]
    },
    {
      "cell_type": "code",
      "metadata": {
        "id": "dT1G7gqM8kOY",
        "colab_type": "code",
        "outputId": "5263a908-3856-4acb-952c-9d65a53c064e",
        "colab": {
          "base_uri": "https://localhost:8080/",
          "height": 121
        }
      },
      "source": [
        "#Creamos la columna de años y meses\n",
        "ObjNewColumnYear=ObjData.join_date.dt.year\n",
        "ObjNewColumnMonth=ObjData.join_date.dt.month\n",
        "#Verificamos que se haya creado la columna de year\n",
        "ObjNewColumnYear.head()"
      ],
      "execution_count": 31,
      "outputs": [
        {
          "output_type": "execute_result",
          "data": {
            "text/plain": [
              "0    2016\n",
              "1    2017\n",
              "2    2016\n",
              "3    2016\n",
              "4    2017\n",
              "Name: join_date, dtype: int64"
            ]
          },
          "metadata": {
            "tags": []
          },
          "execution_count": 31
        }
      ]
    },
    {
      "cell_type": "code",
      "metadata": {
        "id": "WTem8sLEbuAt",
        "colab_type": "code",
        "outputId": "2e72368c-7bde-40bb-8c0c-898aeef5988a",
        "colab": {
          "base_uri": "https://localhost:8080/",
          "height": 121
        }
      },
      "source": [
        "#Verificamos que se haya creado la columna mes\n",
        "ObjNewColumnMonth.head()"
      ],
      "execution_count": 32,
      "outputs": [
        {
          "output_type": "execute_result",
          "data": {
            "text/plain": [
              "0    11\n",
              "1     5\n",
              "2    12\n",
              "3     7\n",
              "4     5\n",
              "Name: join_date, dtype: int64"
            ]
          },
          "metadata": {
            "tags": []
          },
          "execution_count": 32
        }
      ]
    },
    {
      "cell_type": "code",
      "metadata": {
        "id": "4eyA6VBWbgVZ",
        "colab_type": "code",
        "outputId": "ff0ac15f-ad15-4e1e-a815-037631bb63d1",
        "colab": {
          "base_uri": "https://localhost:8080/",
          "height": 225
        }
      },
      "source": [
        "#Agregamos las columnas al dataset principal\n",
        "ObjData['month']=ObjNewColumnMonth\n",
        "ObjData['year']=ObjNewColumnYear"
      ],
      "execution_count": 33,
      "outputs": [
        {
          "output_type": "stream",
          "text": [
            "/usr/local/lib/python3.6/dist-packages/ipykernel_launcher.py:1: SettingWithCopyWarning: \n",
            "A value is trying to be set on a copy of a slice from a DataFrame.\n",
            "Try using .loc[row_indexer,col_indexer] = value instead\n",
            "\n",
            "See the caveats in the documentation: https://pandas.pydata.org/pandas-docs/stable/user_guide/indexing.html#returning-a-view-versus-a-copy\n",
            "  \"\"\"Entry point for launching an IPython kernel.\n",
            "/usr/local/lib/python3.6/dist-packages/ipykernel_launcher.py:2: SettingWithCopyWarning: \n",
            "A value is trying to be set on a copy of a slice from a DataFrame.\n",
            "Try using .loc[row_indexer,col_indexer] = value instead\n",
            "\n",
            "See the caveats in the documentation: https://pandas.pydata.org/pandas-docs/stable/user_guide/indexing.html#returning-a-view-versus-a-copy\n",
            "  \n"
          ],
          "name": "stderr"
        }
      ]
    },
    {
      "cell_type": "code",
      "metadata": {
        "id": "zVjPnVll8kOb",
        "colab_type": "code",
        "outputId": "e18cf624-0794-4868-939a-f6cb052f5460",
        "colab": {
          "base_uri": "https://localhost:8080/",
          "height": 202
        }
      },
      "source": [
        "#Verificamos que se hayan agregado las columnas al dataset\n",
        "ObjData.head()"
      ],
      "execution_count": 34,
      "outputs": [
        {
          "output_type": "execute_result",
          "data": {
            "text/html": [
              "<div>\n",
              "<style scoped>\n",
              "    .dataframe tbody tr th:only-of-type {\n",
              "        vertical-align: middle;\n",
              "    }\n",
              "\n",
              "    .dataframe tbody tr th {\n",
              "        vertical-align: top;\n",
              "    }\n",
              "\n",
              "    .dataframe thead th {\n",
              "        text-align: right;\n",
              "    }\n",
              "</style>\n",
              "<table border=\"1\" class=\"dataframe\">\n",
              "  <thead>\n",
              "    <tr style=\"text-align: right;\">\n",
              "      <th></th>\n",
              "      <th>join_date</th>\n",
              "      <th>group</th>\n",
              "      <th>city</th>\n",
              "      <th>state</th>\n",
              "      <th>country</th>\n",
              "      <th>month</th>\n",
              "      <th>year</th>\n",
              "    </tr>\n",
              "  </thead>\n",
              "  <tbody>\n",
              "    <tr>\n",
              "      <th>0</th>\n",
              "      <td>2016-11-18 02:41:29</td>\n",
              "      <td>houston machine learning</td>\n",
              "      <td>Houston</td>\n",
              "      <td>TX</td>\n",
              "      <td>us</td>\n",
              "      <td>11</td>\n",
              "      <td>2016</td>\n",
              "    </tr>\n",
              "    <tr>\n",
              "      <th>1</th>\n",
              "      <td>2017-05-09 14:16:37</td>\n",
              "      <td>houston machine learning</td>\n",
              "      <td>Houston</td>\n",
              "      <td>TX</td>\n",
              "      <td>us</td>\n",
              "      <td>5</td>\n",
              "      <td>2017</td>\n",
              "    </tr>\n",
              "    <tr>\n",
              "      <th>2</th>\n",
              "      <td>2016-12-30 02:34:16</td>\n",
              "      <td>houston machine learning</td>\n",
              "      <td>Houston</td>\n",
              "      <td>TX</td>\n",
              "      <td>us</td>\n",
              "      <td>12</td>\n",
              "      <td>2016</td>\n",
              "    </tr>\n",
              "    <tr>\n",
              "      <th>3</th>\n",
              "      <td>2016-07-18 00:48:17</td>\n",
              "      <td>houston machine learning</td>\n",
              "      <td>Houston</td>\n",
              "      <td>TX</td>\n",
              "      <td>us</td>\n",
              "      <td>7</td>\n",
              "      <td>2016</td>\n",
              "    </tr>\n",
              "    <tr>\n",
              "      <th>4</th>\n",
              "      <td>2017-05-25 12:58:16</td>\n",
              "      <td>houston machine learning</td>\n",
              "      <td>Houston</td>\n",
              "      <td>TX</td>\n",
              "      <td>us</td>\n",
              "      <td>5</td>\n",
              "      <td>2017</td>\n",
              "    </tr>\n",
              "  </tbody>\n",
              "</table>\n",
              "</div>"
            ],
            "text/plain": [
              "            join_date                     group     city  ... country month  year\n",
              "0 2016-11-18 02:41:29  houston machine learning  Houston  ...      us    11  2016\n",
              "1 2017-05-09 14:16:37  houston machine learning  Houston  ...      us     5  2017\n",
              "2 2016-12-30 02:34:16  houston machine learning  Houston  ...      us    12  2016\n",
              "3 2016-07-18 00:48:17  houston machine learning  Houston  ...      us     7  2016\n",
              "4 2017-05-25 12:58:16  houston machine learning  Houston  ...      us     5  2017\n",
              "\n",
              "[5 rows x 7 columns]"
            ]
          },
          "metadata": {
            "tags": []
          },
          "execution_count": 34
        }
      ]
    },
    {
      "cell_type": "markdown",
      "metadata": {
        "id": "vtTnK-pR8kOd",
        "colab_type": "text"
      },
      "source": [
        "## 8.- ¿Cuantas reuniones por año se registraron en el DataFrame?"
      ]
    },
    {
      "cell_type": "code",
      "metadata": {
        "id": "LGObXSP38kOe",
        "colab_type": "code",
        "outputId": "92e6bf83-b956-4377-9920-6a8f30cf82d5",
        "colab": {
          "base_uri": "https://localhost:8080/",
          "height": 138
        }
      },
      "source": [
        "#En base a la columna year agregada anteriormente \n",
        "ObjMeetupYear=ObjData['year'].value_counts()\n",
        "#Imprimimos la cantidad de reuniones por año\n",
        "print('Por año se realizaron las siguientes reuniones: \\n',ObjMeetupYear.head())"
      ],
      "execution_count": 35,
      "outputs": [
        {
          "output_type": "stream",
          "text": [
            "Por año se realizaron las siguientes reuniones: \n",
            " 2017    3019\n",
            "2016    2679\n",
            "2015    1310\n",
            "2014     349\n",
            "2013      78\n",
            "Name: year, dtype: int64\n"
          ],
          "name": "stdout"
        }
      ]
    },
    {
      "cell_type": "markdown",
      "metadata": {
        "id": "g96qug1M8kOq",
        "colab_type": "text"
      },
      "source": [
        "## 9.- ¿Cuantas veces por año se han reunido los grupos ('houston data science', 'houston machine learning') fuera de USA en el dataframe?"
      ]
    },
    {
      "cell_type": "code",
      "metadata": {
        "id": "cxqvRrwJ8kOq",
        "colab_type": "code",
        "outputId": "a00977da-a7e3-473d-9ae8-be4d83e61672",
        "colab": {
          "base_uri": "https://localhost:8080/",
          "height": 202
        }
      },
      "source": [
        "#Realizamos la consulta solcitada de los grupos\n",
        "ObjFinal=ObjData[(ObjData['group']=='houston data science')|\n",
        "          (ObjData['group']=='houston machine learning')|\n",
        "          (ObjData['country']!='us')]\n",
        "ObjFinal.head()"
      ],
      "execution_count": 36,
      "outputs": [
        {
          "output_type": "execute_result",
          "data": {
            "text/html": [
              "<div>\n",
              "<style scoped>\n",
              "    .dataframe tbody tr th:only-of-type {\n",
              "        vertical-align: middle;\n",
              "    }\n",
              "\n",
              "    .dataframe tbody tr th {\n",
              "        vertical-align: top;\n",
              "    }\n",
              "\n",
              "    .dataframe thead th {\n",
              "        text-align: right;\n",
              "    }\n",
              "</style>\n",
              "<table border=\"1\" class=\"dataframe\">\n",
              "  <thead>\n",
              "    <tr style=\"text-align: right;\">\n",
              "      <th></th>\n",
              "      <th>join_date</th>\n",
              "      <th>group</th>\n",
              "      <th>city</th>\n",
              "      <th>state</th>\n",
              "      <th>country</th>\n",
              "      <th>month</th>\n",
              "      <th>year</th>\n",
              "    </tr>\n",
              "  </thead>\n",
              "  <tbody>\n",
              "    <tr>\n",
              "      <th>0</th>\n",
              "      <td>2016-11-18 02:41:29</td>\n",
              "      <td>houston machine learning</td>\n",
              "      <td>Houston</td>\n",
              "      <td>TX</td>\n",
              "      <td>us</td>\n",
              "      <td>11</td>\n",
              "      <td>2016</td>\n",
              "    </tr>\n",
              "    <tr>\n",
              "      <th>1</th>\n",
              "      <td>2017-05-09 14:16:37</td>\n",
              "      <td>houston machine learning</td>\n",
              "      <td>Houston</td>\n",
              "      <td>TX</td>\n",
              "      <td>us</td>\n",
              "      <td>5</td>\n",
              "      <td>2017</td>\n",
              "    </tr>\n",
              "    <tr>\n",
              "      <th>2</th>\n",
              "      <td>2016-12-30 02:34:16</td>\n",
              "      <td>houston machine learning</td>\n",
              "      <td>Houston</td>\n",
              "      <td>TX</td>\n",
              "      <td>us</td>\n",
              "      <td>12</td>\n",
              "      <td>2016</td>\n",
              "    </tr>\n",
              "    <tr>\n",
              "      <th>3</th>\n",
              "      <td>2016-07-18 00:48:17</td>\n",
              "      <td>houston machine learning</td>\n",
              "      <td>Houston</td>\n",
              "      <td>TX</td>\n",
              "      <td>us</td>\n",
              "      <td>7</td>\n",
              "      <td>2016</td>\n",
              "    </tr>\n",
              "    <tr>\n",
              "      <th>4</th>\n",
              "      <td>2017-05-25 12:58:16</td>\n",
              "      <td>houston machine learning</td>\n",
              "      <td>Houston</td>\n",
              "      <td>TX</td>\n",
              "      <td>us</td>\n",
              "      <td>5</td>\n",
              "      <td>2017</td>\n",
              "    </tr>\n",
              "  </tbody>\n",
              "</table>\n",
              "</div>"
            ],
            "text/plain": [
              "            join_date                     group     city  ... country month  year\n",
              "0 2016-11-18 02:41:29  houston machine learning  Houston  ...      us    11  2016\n",
              "1 2017-05-09 14:16:37  houston machine learning  Houston  ...      us     5  2017\n",
              "2 2016-12-30 02:34:16  houston machine learning  Houston  ...      us    12  2016\n",
              "3 2016-07-18 00:48:17  houston machine learning  Houston  ...      us     7  2016\n",
              "4 2017-05-25 12:58:16  houston machine learning  Houston  ...      us     5  2017\n",
              "\n",
              "[5 rows x 7 columns]"
            ]
          },
          "metadata": {
            "tags": []
          },
          "execution_count": 36
        }
      ]
    },
    {
      "cell_type": "code",
      "metadata": {
        "id": "Am-FPjbHenWI",
        "colab_type": "code",
        "outputId": "5d5ef3a0-ebb9-487f-9542-e9d9553f682e",
        "colab": {
          "base_uri": "https://localhost:8080/",
          "height": 138
        }
      },
      "source": [
        "#Ahora imprimimos el número de reuniones por año\n",
        "ObjFinalYear=ObjFinal['year'].value_counts()\n",
        "print('Reuniones de los grupos fuera de USA:\\n',ObjFinalYear)"
      ],
      "execution_count": 37,
      "outputs": [
        {
          "output_type": "stream",
          "text": [
            "Reuniones de los grupos fuera de USA:\n",
            " 2017    1811\n",
            "2016    1095\n",
            "2015       4\n",
            "2014       2\n",
            "2012       1\n",
            "Name: year, dtype: int64\n"
          ],
          "name": "stdout"
        }
      ]
    },
    {
      "cell_type": "markdown",
      "metadata": {
        "id": "Nu1uBd-18kOt",
        "colab_type": "text"
      },
      "source": [
        "Se puede concluir que los grupos 'houston data science' y'houston machine learning', se reunieron 1811 veces fuera de los USA.\n"
      ]
    }
  ]
}